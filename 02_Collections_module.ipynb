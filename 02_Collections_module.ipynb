{
 "cells": [
  {
   "cell_type": "markdown",
   "id": "23ea7751",
   "metadata": {},
   "source": [
    "#### Ordered Dictionary"
   ]
  },
  {
   "cell_type": "code",
   "execution_count": 1,
   "id": "d7f1f4d0",
   "metadata": {},
   "outputs": [
    {
     "data": {
      "text/plain": [
       "{'One': 1, 'Two': 2, 'Three': 3}"
      ]
     },
     "execution_count": 1,
     "metadata": {},
     "output_type": "execute_result"
    }
   ],
   "source": [
    "d = {}\n",
    "\n",
    "d['One'] = 1\n",
    "d['Two'] = 2\n",
    "d['Three'] = 3\n",
    "\n",
    "d"
   ]
  },
  {
   "cell_type": "code",
   "execution_count": 2,
   "id": "8c1fa2a3",
   "metadata": {},
   "outputs": [
    {
     "data": {
      "text/plain": [
       "dict"
      ]
     },
     "execution_count": 2,
     "metadata": {},
     "output_type": "execute_result"
    }
   ],
   "source": [
    "from collections import OrderedDict\n",
    "\n",
    "OrderedDict.__base__"
   ]
  },
  {
   "cell_type": "code",
   "execution_count": 5,
   "id": "df0ef496",
   "metadata": {},
   "outputs": [
    {
     "name": "stdout",
     "output_type": "stream",
     "text": [
      "OrderedDict([('a', 1), ('b', 2), ('c', 3)])\n",
      "OrderedDict([('a', 1), ('b', 10), ('c', 3)])\n"
     ]
    }
   ],
   "source": [
    "od = OrderedDict()\n",
    "\n",
    "od['a'] = 1\n",
    "od['b'] = 2\n",
    "od['c'] = 3\n",
    "\n",
    "print(od)\n",
    "\n",
    "od['b'] = 10\n",
    "\n",
    "print(od)"
   ]
  },
  {
   "cell_type": "code",
   "execution_count": 6,
   "id": "5cfaef7e",
   "metadata": {},
   "outputs": [
    {
     "data": {
      "text/plain": [
       "OrderedDict([('a', 1), ('c', 3), ('b', 10)])"
      ]
     },
     "execution_count": 6,
     "metadata": {},
     "output_type": "execute_result"
    }
   ],
   "source": [
    "od.move_to_end('b', True) # True implies move the item to the end of the dictionary\n",
    "od"
   ]
  },
  {
   "cell_type": "code",
   "execution_count": 7,
   "id": "62b0c6ba",
   "metadata": {},
   "outputs": [
    {
     "data": {
      "text/plain": [
       "OrderedDict([('b', 10), ('a', 1), ('c', 3)])"
      ]
     },
     "execution_count": 7,
     "metadata": {},
     "output_type": "execute_result"
    }
   ],
   "source": [
    "od.move_to_end('b', False) # False implies move the item to the start of the dictionary\n",
    "od"
   ]
  },
  {
   "cell_type": "code",
   "execution_count": 8,
   "id": "f0f38916",
   "metadata": {
    "scrolled": false
   },
   "outputs": [
    {
     "name": "stdout",
     "output_type": "stream",
     "text": [
      "Help on class OrderedDict in module collections:\n",
      "\n",
      "class OrderedDict(builtins.dict)\n",
      " |  Dictionary that remembers insertion order\n",
      " |  \n",
      " |  Method resolution order:\n",
      " |      OrderedDict\n",
      " |      builtins.dict\n",
      " |      builtins.object\n",
      " |  \n",
      " |  Methods defined here:\n",
      " |  \n",
      " |  __delitem__(self, key, /)\n",
      " |      Delete self[key].\n",
      " |  \n",
      " |  __eq__(self, value, /)\n",
      " |      Return self==value.\n",
      " |  \n",
      " |  __ge__(self, value, /)\n",
      " |      Return self>=value.\n",
      " |  \n",
      " |  __gt__(self, value, /)\n",
      " |      Return self>value.\n",
      " |  \n",
      " |  __init__(self, /, *args, **kwargs)\n",
      " |      Initialize self.  See help(type(self)) for accurate signature.\n",
      " |  \n",
      " |  __ior__(self, value, /)\n",
      " |      Return self|=value.\n",
      " |  \n",
      " |  __iter__(self, /)\n",
      " |      Implement iter(self).\n",
      " |  \n",
      " |  __le__(self, value, /)\n",
      " |      Return self<=value.\n",
      " |  \n",
      " |  __lt__(self, value, /)\n",
      " |      Return self<value.\n",
      " |  \n",
      " |  __ne__(self, value, /)\n",
      " |      Return self!=value.\n",
      " |  \n",
      " |  __or__(self, value, /)\n",
      " |      Return self|value.\n",
      " |  \n",
      " |  __reduce__(...)\n",
      " |      Return state information for pickling\n",
      " |  \n",
      " |  __repr__(self, /)\n",
      " |      Return repr(self).\n",
      " |  \n",
      " |  __reversed__(...)\n",
      " |      od.__reversed__() <==> reversed(od)\n",
      " |  \n",
      " |  __ror__(self, value, /)\n",
      " |      Return value|self.\n",
      " |  \n",
      " |  __setitem__(self, key, value, /)\n",
      " |      Set self[key] to value.\n",
      " |  \n",
      " |  __sizeof__(...)\n",
      " |      D.__sizeof__() -> size of D in memory, in bytes\n",
      " |  \n",
      " |  clear(...)\n",
      " |      od.clear() -> None.  Remove all items from od.\n",
      " |  \n",
      " |  copy(...)\n",
      " |      od.copy() -> a shallow copy of od\n",
      " |  \n",
      " |  items(...)\n",
      " |      D.items() -> a set-like object providing a view on D's items\n",
      " |  \n",
      " |  keys(...)\n",
      " |      D.keys() -> a set-like object providing a view on D's keys\n",
      " |  \n",
      " |  move_to_end(self, /, key, last=True)\n",
      " |      Move an existing element to the end (or beginning if last is false).\n",
      " |      \n",
      " |      Raise KeyError if the element does not exist.\n",
      " |  \n",
      " |  pop(...)\n",
      " |      od.pop(key[,default]) -> v, remove specified key and return the corresponding value.\n",
      " |      \n",
      " |      If the key is not found, return the default if given; otherwise,\n",
      " |      raise a KeyError.\n",
      " |  \n",
      " |  popitem(self, /, last=True)\n",
      " |      Remove and return a (key, value) pair from the dictionary.\n",
      " |      \n",
      " |      Pairs are returned in LIFO order if last is true or FIFO order if false.\n",
      " |  \n",
      " |  setdefault(self, /, key, default=None)\n",
      " |      Insert key with a value of default if key is not in the dictionary.\n",
      " |      \n",
      " |      Return the value for key if key is in the dictionary, else default.\n",
      " |  \n",
      " |  update(...)\n",
      " |      D.update([E, ]**F) -> None.  Update D from dict/iterable E and F.\n",
      " |      If E is present and has a .keys() method, then does:  for k in E: D[k] = E[k]\n",
      " |      If E is present and lacks a .keys() method, then does:  for k, v in E: D[k] = v\n",
      " |      In either case, this is followed by: for k in F:  D[k] = F[k]\n",
      " |  \n",
      " |  values(...)\n",
      " |      D.values() -> an object providing a view on D's values\n",
      " |  \n",
      " |  ----------------------------------------------------------------------\n",
      " |  Class methods defined here:\n",
      " |  \n",
      " |  fromkeys(iterable, value=None) from builtins.type\n",
      " |      Create a new ordered dictionary with keys from iterable and values set to value.\n",
      " |  \n",
      " |  ----------------------------------------------------------------------\n",
      " |  Data descriptors defined here:\n",
      " |  \n",
      " |  __dict__\n",
      " |  \n",
      " |  ----------------------------------------------------------------------\n",
      " |  Data and other attributes defined here:\n",
      " |  \n",
      " |  __hash__ = None\n",
      " |  \n",
      " |  ----------------------------------------------------------------------\n",
      " |  Methods inherited from builtins.dict:\n",
      " |  \n",
      " |  __contains__(self, key, /)\n",
      " |      True if the dictionary has the specified key, else False.\n",
      " |  \n",
      " |  __getattribute__(self, name, /)\n",
      " |      Return getattr(self, name).\n",
      " |  \n",
      " |  __getitem__(...)\n",
      " |      x.__getitem__(y) <==> x[y]\n",
      " |  \n",
      " |  __len__(self, /)\n",
      " |      Return len(self).\n",
      " |  \n",
      " |  get(self, key, default=None, /)\n",
      " |      Return the value for key if key is in the dictionary, else default.\n",
      " |  \n",
      " |  ----------------------------------------------------------------------\n",
      " |  Class methods inherited from builtins.dict:\n",
      " |  \n",
      " |  __class_getitem__(...) from builtins.type\n",
      " |      See PEP 585\n",
      " |  \n",
      " |  ----------------------------------------------------------------------\n",
      " |  Static methods inherited from builtins.dict:\n",
      " |  \n",
      " |  __new__(*args, **kwargs) from builtins.type\n",
      " |      Create and return a new object.  See help(type) for accurate signature.\n",
      "\n"
     ]
    }
   ],
   "source": [
    "help(OrderedDict)"
   ]
  },
  {
   "cell_type": "code",
   "execution_count": 9,
   "id": "a5b9db4d",
   "metadata": {},
   "outputs": [
    {
     "data": {
      "text/plain": [
       "True"
      ]
     },
     "execution_count": 9,
     "metadata": {},
     "output_type": "execute_result"
    }
   ],
   "source": [
    "d1 = {}\n",
    "d1['a'] = 'A'\n",
    "d1['b'] = 'B'\n",
    "\n",
    "d2 = {}\n",
    "d2['b'] = 'B'\n",
    "d2['a'] = 'A'\n",
    "\n",
    "d1 == d2"
   ]
  },
  {
   "cell_type": "code",
   "execution_count": 13,
   "id": "8f0137d0",
   "metadata": {},
   "outputs": [
    {
     "name": "stdout",
     "output_type": "stream",
     "text": [
      "OrderedDict([('a', 'A'), ('b', 'B')])\n",
      "OrderedDict([('b', 'B'), ('a', 'A')])\n"
     ]
    },
    {
     "data": {
      "text/plain": [
       "False"
      ]
     },
     "execution_count": 13,
     "metadata": {},
     "output_type": "execute_result"
    }
   ],
   "source": [
    "od1 = OrderedDict()\n",
    "od1['a'] = 'A'\n",
    "od1['b'] = 'B'\n",
    "\n",
    "od2 = OrderedDict()\n",
    "od2['b'] = 'B'\n",
    "od2['a'] = 'A'\n",
    "\n",
    "print(od1)\n",
    "print(od2)\n",
    "\n",
    "od1 == od2"
   ]
  },
  {
   "cell_type": "code",
   "execution_count": 15,
   "id": "e5ffcc0e",
   "metadata": {},
   "outputs": [
    {
     "name": "stdout",
     "output_type": "stream",
     "text": [
      "OrderedDict([('a', 'A'), ('b', 'B')])\n",
      "OrderedDict([('a', 'A'), ('b', 'B')])\n"
     ]
    },
    {
     "data": {
      "text/plain": [
       "True"
      ]
     },
     "execution_count": 15,
     "metadata": {},
     "output_type": "execute_result"
    }
   ],
   "source": [
    "od2.move_to_end('b', True)\n",
    "print(od1)\n",
    "print(od2)\n",
    "od1 == od2"
   ]
  },
  {
   "cell_type": "markdown",
   "id": "f3c97cde",
   "metadata": {},
   "source": [
    "#### Create a dictionary having letters as key and frequency of the letter as value (the letters are from a string)"
   ]
  },
  {
   "cell_type": "code",
   "execution_count": 18,
   "id": "83b3bc29",
   "metadata": {},
   "outputs": [
    {
     "data": {
      "text/plain": [
       "{'h': 1, 'e': 1, 'l': 3, 'o': 2, 'w': 1, 'r': 1, 'd': 1}"
      ]
     },
     "execution_count": 18,
     "metadata": {},
     "output_type": "execute_result"
    }
   ],
   "source": [
    "s1 = 'helloworld'\n",
    "\n",
    "letters = {}\n",
    "\n",
    "for ch in s1:\n",
    "    letters[ch] = letters.get(ch,0) + 1  # we specify the default value everytime an attempt is made to get the value\n",
    "\n",
    "letters"
   ]
  },
  {
   "cell_type": "markdown",
   "id": "16570bdb",
   "metadata": {},
   "source": [
    "#### Default Dictionary"
   ]
  },
  {
   "cell_type": "code",
   "execution_count": 19,
   "id": "4fd0c08f",
   "metadata": {},
   "outputs": [
    {
     "data": {
      "text/plain": [
       "dict"
      ]
     },
     "execution_count": 19,
     "metadata": {},
     "output_type": "execute_result"
    }
   ],
   "source": [
    "from collections import defaultdict\n",
    "\n",
    "defaultdict.__base__"
   ]
  },
  {
   "cell_type": "code",
   "execution_count": 20,
   "id": "2e2288fa",
   "metadata": {},
   "outputs": [
    {
     "data": {
      "text/plain": [
       "defaultdict(int, {'h': 1, 'e': 1, 'l': 3, 'o': 2, 'w': 1, 'r': 1, 'd': 1})"
      ]
     },
     "execution_count": 20,
     "metadata": {},
     "output_type": "execute_result"
    }
   ],
   "source": [
    "letters = defaultdict(int) # int -- 0, str -- '', list -- []\n",
    "\n",
    "for ch in s1:\n",
    "    letters[ch] = letters[ch] + 1\n",
    "\n",
    "letters"
   ]
  },
  {
   "cell_type": "code",
   "execution_count": 23,
   "id": "158857f4",
   "metadata": {},
   "outputs": [
    {
     "name": "stdout",
     "output_type": "stream",
     "text": [
      "Apple\n",
      "Zebra\n",
      "Not present\n"
     ]
    }
   ],
   "source": [
    "def default_value():\n",
    "    return 'Not present'\n",
    "\n",
    "d = defaultdict(default_value) # function gets called in case key does not exist in the dictionary\n",
    "\n",
    "d['A'] = 'Apple'\n",
    "d['Z'] = 'Zebra'\n",
    "\n",
    "print(d['A'])\n",
    "print(d['Z'])\n",
    "print(d['D'])"
   ]
  },
  {
   "cell_type": "markdown",
   "id": "eeb4d6db",
   "metadata": {},
   "source": [
    "#### Default Dictionary assignment\n",
    "\n",
    "Read from a file where each line is a fruit name followed by a count. Create a dict where fruit name is the key and values is a list having occurences of fruit on each line.\n",
    "\n",
    "- apple 2\n",
    "- banana 5\n",
    "- cherry 3\n",
    "- apple 4\n",
    "- pear 10\n",
    "- banana 3\n",
    "\n",
    "{'apple': [2,4], 'banana':[5,3], 'cherry'=[3], 'pear'\"[10]}"
   ]
  },
  {
   "cell_type": "code",
   "execution_count": 25,
   "id": "5567642d",
   "metadata": {},
   "outputs": [
    {
     "data": {
      "text/plain": [
       "defaultdict(list,\n",
       "            {'apple': [2, 4, 10],\n",
       "             'banana': [5, 3],\n",
       "             'cherry': [3, 6],\n",
       "             'pear': [10]})"
      ]
     },
     "execution_count": 25,
     "metadata": {},
     "output_type": "execute_result"
    }
   ],
   "source": [
    "fruits = defaultdict(list)\n",
    "\n",
    "with open('fruits.txt') as fruits_file:\n",
    "    line = fruits_file.readline()\n",
    "    while line:\n",
    "        name, count = line.split()\n",
    "        fruits[name].append(int(count))\n",
    "        line = fruits_file.readline()\n",
    "\n",
    "fruits"
   ]
  },
  {
   "cell_type": "markdown",
   "id": "64ffe7f0",
   "metadata": {},
   "source": [
    "#### Total the fruits as value in the dictionary"
   ]
  },
  {
   "cell_type": "code",
   "execution_count": 31,
   "id": "d96ae250",
   "metadata": {},
   "outputs": [
    {
     "data": {
      "text/plain": [
       "defaultdict(int, {'apple': 16, 'banana': 8, 'cherry': 9, 'pear': 10})"
      ]
     },
     "execution_count": 31,
     "metadata": {},
     "output_type": "execute_result"
    }
   ],
   "source": [
    "fruits = defaultdict(int)\n",
    "\n",
    "with open('fruits.txt') as fruits_file:\n",
    "    line = fruits_file.readline()\n",
    "    while line:\n",
    "        name, count = line.split()\n",
    "        fruits[name] = fruits[name] + (int(count))\n",
    "        line = fruits_file.readline()\n",
    "\n",
    "fruits"
   ]
  },
  {
   "cell_type": "code",
   "execution_count": 32,
   "id": "79dbbf57",
   "metadata": {},
   "outputs": [
    {
     "data": {
      "text/plain": [
       "8"
      ]
     },
     "execution_count": 32,
     "metadata": {},
     "output_type": "execute_result"
    }
   ],
   "source": [
    "fruits['banana']"
   ]
  },
  {
   "cell_type": "code",
   "execution_count": 33,
   "id": "334fc896",
   "metadata": {},
   "outputs": [
    {
     "name": "stdout",
     "output_type": "stream",
     "text": [
      "Help on class defaultdict in module collections:\n",
      "\n",
      "class defaultdict(builtins.dict)\n",
      " |  defaultdict(default_factory=None, /, [...]) --> dict with default factory\n",
      " |  \n",
      " |  The default factory is called without arguments to produce\n",
      " |  a new value when a key is not present, in __getitem__ only.\n",
      " |  A defaultdict compares equal to a dict with the same items.\n",
      " |  All remaining arguments are treated the same as if they were\n",
      " |  passed to the dict constructor, including keyword arguments.\n",
      " |  \n",
      " |  Method resolution order:\n",
      " |      defaultdict\n",
      " |      builtins.dict\n",
      " |      builtins.object\n",
      " |  \n",
      " |  Methods defined here:\n",
      " |  \n",
      " |  __copy__(...)\n",
      " |      D.copy() -> a shallow copy of D.\n",
      " |  \n",
      " |  __getattribute__(self, name, /)\n",
      " |      Return getattr(self, name).\n",
      " |  \n",
      " |  __init__(self, /, *args, **kwargs)\n",
      " |      Initialize self.  See help(type(self)) for accurate signature.\n",
      " |  \n",
      " |  __missing__(...)\n",
      " |      __missing__(key) # Called by __getitem__ for missing key; pseudo-code:\n",
      " |      if self.default_factory is None: raise KeyError((key,))\n",
      " |      self[key] = value = self.default_factory()\n",
      " |      return value\n",
      " |  \n",
      " |  __or__(self, value, /)\n",
      " |      Return self|value.\n",
      " |  \n",
      " |  __reduce__(...)\n",
      " |      Return state information for pickling.\n",
      " |  \n",
      " |  __repr__(self, /)\n",
      " |      Return repr(self).\n",
      " |  \n",
      " |  __ror__(self, value, /)\n",
      " |      Return value|self.\n",
      " |  \n",
      " |  copy(...)\n",
      " |      D.copy() -> a shallow copy of D.\n",
      " |  \n",
      " |  ----------------------------------------------------------------------\n",
      " |  Class methods defined here:\n",
      " |  \n",
      " |  __class_getitem__(...) from builtins.type\n",
      " |      See PEP 585\n",
      " |  \n",
      " |  ----------------------------------------------------------------------\n",
      " |  Data descriptors defined here:\n",
      " |  \n",
      " |  default_factory\n",
      " |      Factory for default value called by __missing__().\n",
      " |  \n",
      " |  ----------------------------------------------------------------------\n",
      " |  Methods inherited from builtins.dict:\n",
      " |  \n",
      " |  __contains__(self, key, /)\n",
      " |      True if the dictionary has the specified key, else False.\n",
      " |  \n",
      " |  __delitem__(self, key, /)\n",
      " |      Delete self[key].\n",
      " |  \n",
      " |  __eq__(self, value, /)\n",
      " |      Return self==value.\n",
      " |  \n",
      " |  __ge__(self, value, /)\n",
      " |      Return self>=value.\n",
      " |  \n",
      " |  __getitem__(...)\n",
      " |      x.__getitem__(y) <==> x[y]\n",
      " |  \n",
      " |  __gt__(self, value, /)\n",
      " |      Return self>value.\n",
      " |  \n",
      " |  __ior__(self, value, /)\n",
      " |      Return self|=value.\n",
      " |  \n",
      " |  __iter__(self, /)\n",
      " |      Implement iter(self).\n",
      " |  \n",
      " |  __le__(self, value, /)\n",
      " |      Return self<=value.\n",
      " |  \n",
      " |  __len__(self, /)\n",
      " |      Return len(self).\n",
      " |  \n",
      " |  __lt__(self, value, /)\n",
      " |      Return self<value.\n",
      " |  \n",
      " |  __ne__(self, value, /)\n",
      " |      Return self!=value.\n",
      " |  \n",
      " |  __reversed__(self, /)\n",
      " |      Return a reverse iterator over the dict keys.\n",
      " |  \n",
      " |  __setitem__(self, key, value, /)\n",
      " |      Set self[key] to value.\n",
      " |  \n",
      " |  __sizeof__(...)\n",
      " |      D.__sizeof__() -> size of D in memory, in bytes\n",
      " |  \n",
      " |  clear(...)\n",
      " |      D.clear() -> None.  Remove all items from D.\n",
      " |  \n",
      " |  get(self, key, default=None, /)\n",
      " |      Return the value for key if key is in the dictionary, else default.\n",
      " |  \n",
      " |  items(...)\n",
      " |      D.items() -> a set-like object providing a view on D's items\n",
      " |  \n",
      " |  keys(...)\n",
      " |      D.keys() -> a set-like object providing a view on D's keys\n",
      " |  \n",
      " |  pop(...)\n",
      " |      D.pop(k[,d]) -> v, remove specified key and return the corresponding value.\n",
      " |      \n",
      " |      If the key is not found, return the default if given; otherwise,\n",
      " |      raise a KeyError.\n",
      " |  \n",
      " |  popitem(self, /)\n",
      " |      Remove and return a (key, value) pair as a 2-tuple.\n",
      " |      \n",
      " |      Pairs are returned in LIFO (last-in, first-out) order.\n",
      " |      Raises KeyError if the dict is empty.\n",
      " |  \n",
      " |  setdefault(self, key, default=None, /)\n",
      " |      Insert key with a value of default if key is not in the dictionary.\n",
      " |      \n",
      " |      Return the value for key if key is in the dictionary, else default.\n",
      " |  \n",
      " |  update(...)\n",
      " |      D.update([E, ]**F) -> None.  Update D from dict/iterable E and F.\n",
      " |      If E is present and has a .keys() method, then does:  for k in E: D[k] = E[k]\n",
      " |      If E is present and lacks a .keys() method, then does:  for k, v in E: D[k] = v\n",
      " |      In either case, this is followed by: for k in F:  D[k] = F[k]\n",
      " |  \n",
      " |  values(...)\n",
      " |      D.values() -> an object providing a view on D's values\n",
      " |  \n",
      " |  ----------------------------------------------------------------------\n",
      " |  Class methods inherited from builtins.dict:\n",
      " |  \n",
      " |  fromkeys(iterable, value=None, /) from builtins.type\n",
      " |      Create a new dictionary with keys from iterable and values set to value.\n",
      " |  \n",
      " |  ----------------------------------------------------------------------\n",
      " |  Static methods inherited from builtins.dict:\n",
      " |  \n",
      " |  __new__(*args, **kwargs) from builtins.type\n",
      " |      Create and return a new object.  See help(type) for accurate signature.\n",
      " |  \n",
      " |  ----------------------------------------------------------------------\n",
      " |  Data and other attributes inherited from builtins.dict:\n",
      " |  \n",
      " |  __hash__ = None\n",
      "\n"
     ]
    }
   ],
   "source": [
    "help(defaultdict)"
   ]
  },
  {
   "cell_type": "markdown",
   "id": "eb9355e6",
   "metadata": {},
   "source": [
    "#### Write a read-only in a class"
   ]
  },
  {
   "cell_type": "code",
   "execution_count": 54,
   "id": "95f8e605",
   "metadata": {},
   "outputs": [
    {
     "name": "stdout",
     "output_type": "stream",
     "text": [
      "123\n",
      "333\n"
     ]
    }
   ],
   "source": [
    "class Demo:\n",
    "    def __init__(self, a):\n",
    "        self.__x = a\n",
    "    \n",
    "    @property\n",
    "    def x(self):\n",
    "        return self.__x\n",
    "    \n",
    "    @x.setter\n",
    "    def x(self,value):\n",
    "        self.__x = value    \n",
    "#---------------------------------\n",
    "\n",
    "d = Demo(123)\n",
    "print(d.x) # getter\n",
    "d.x = 333  # setter\n",
    "print(d.x)"
   ]
  },
  {
   "cell_type": "markdown",
   "id": "6c919816",
   "metadata": {},
   "source": [
    "- Create an object of type Point having 2 attributes named x and y\n",
    "- We can specify values for x and y while creating an object of type Point\n",
    "- We can get values of x and y but cannot modify the values (Immutable object)"
   ]
  },
  {
   "cell_type": "code",
   "execution_count": 56,
   "id": "be216d05",
   "metadata": {},
   "outputs": [
    {
     "name": "stdout",
     "output_type": "stream",
     "text": [
      "<class 'function'>\n"
     ]
    }
   ],
   "source": [
    "from collections import namedtuple\n",
    "\n",
    "print(type(namedtuple))"
   ]
  },
  {
   "cell_type": "code",
   "execution_count": 89,
   "id": "8abe28b9",
   "metadata": {},
   "outputs": [
    {
     "name": "stdout",
     "output_type": "stream",
     "text": [
      "<class '__main__.Point'>\n",
      "2\n"
     ]
    }
   ],
   "source": [
    "Point = namedtuple('Point', ['x','y'])\n",
    "\n",
    "p1 = Point(2, 5)\n",
    "\n",
    "print(type(p1))\n",
    "\n",
    "print(getattr(p1, 'x'))\n"
   ]
  },
  {
   "cell_type": "code",
   "execution_count": 64,
   "id": "05baad3a",
   "metadata": {},
   "outputs": [
    {
     "data": {
      "text/plain": [
       "2"
      ]
     },
     "execution_count": 64,
     "metadata": {},
     "output_type": "execute_result"
    }
   ],
   "source": [
    "p1.x"
   ]
  },
  {
   "cell_type": "code",
   "execution_count": 65,
   "id": "03aace58",
   "metadata": {},
   "outputs": [
    {
     "data": {
      "text/plain": [
       "2"
      ]
     },
     "execution_count": 65,
     "metadata": {},
     "output_type": "execute_result"
    }
   ],
   "source": [
    "p1[0]"
   ]
  },
  {
   "cell_type": "code",
   "execution_count": 67,
   "id": "825ae647",
   "metadata": {},
   "outputs": [
    {
     "data": {
      "text/plain": [
       "Employee(id=101, name='John', designation='Programmer')"
      ]
     },
     "execution_count": 67,
     "metadata": {},
     "output_type": "execute_result"
    }
   ],
   "source": [
    "Employee = namedtuple('Employee', ['id', 'name', 'designation'])\n",
    "e1 = Employee(101, 'John', 'Programmer')\n",
    "e1"
   ]
  },
  {
   "cell_type": "code",
   "execution_count": 68,
   "id": "76bd76ba",
   "metadata": {},
   "outputs": [
    {
     "name": "stdout",
     "output_type": "stream",
     "text": [
      "101\n",
      "John\n",
      "Programmer\n"
     ]
    }
   ],
   "source": [
    "print(e1.id)\n",
    "print(e1.name)\n",
    "print(e1.designation)"
   ]
  },
  {
   "cell_type": "code",
   "execution_count": 69,
   "id": "c2c6a182",
   "metadata": {},
   "outputs": [
    {
     "data": {
      "text/plain": [
       "Employee(id=102, name='Sam', designation='Accountant')"
      ]
     },
     "execution_count": 69,
     "metadata": {},
     "output_type": "execute_result"
    }
   ],
   "source": [
    "# create namedtuple from values present in a list\n",
    "list1 = [102, 'Sam', 'Accountant']\n",
    "e2 = Employee._make(list1)\n",
    "e2"
   ]
  },
  {
   "cell_type": "code",
   "execution_count": 70,
   "id": "540b9997",
   "metadata": {},
   "outputs": [
    {
     "data": {
      "text/plain": [
       "('id', 'name', 'designation')"
      ]
     },
     "execution_count": 70,
     "metadata": {},
     "output_type": "execute_result"
    }
   ],
   "source": [
    "# create namedtuple from values present in a dictionary\n",
    "Employee._fields"
   ]
  },
  {
   "cell_type": "code",
   "execution_count": 72,
   "id": "26db0831",
   "metadata": {},
   "outputs": [
    {
     "data": {
      "text/plain": [
       "Employee(id=103, name='Mat', designation='Administrator')"
      ]
     },
     "execution_count": 72,
     "metadata": {},
     "output_type": "execute_result"
    }
   ],
   "source": [
    "dict1 = {'id':103, 'name':'Mat', 'designation':'Administrator'}\n",
    "e3 = Employee(**dict1)\n",
    "e3"
   ]
  },
  {
   "cell_type": "code",
   "execution_count": 76,
   "id": "2e5cd28e",
   "metadata": {},
   "outputs": [
    {
     "data": {
      "text/plain": [
       "Employee(id=103, name='Mathew', designation='Administrator')"
      ]
     },
     "execution_count": 76,
     "metadata": {},
     "output_type": "execute_result"
    }
   ],
   "source": [
    "e4 = e3._replace(name='Mathew') # creates and return a new object \n",
    "e4"
   ]
  },
  {
   "cell_type": "code",
   "execution_count": 77,
   "id": "f84a2b28",
   "metadata": {},
   "outputs": [
    {
     "data": {
      "text/plain": [
       "140381808351392"
      ]
     },
     "execution_count": 77,
     "metadata": {},
     "output_type": "execute_result"
    }
   ],
   "source": [
    "id(e3)"
   ]
  },
  {
   "cell_type": "code",
   "execution_count": 78,
   "id": "5cc6f103",
   "metadata": {},
   "outputs": [
    {
     "data": {
      "text/plain": [
       "140381808334528"
      ]
     },
     "execution_count": 78,
     "metadata": {},
     "output_type": "execute_result"
    }
   ],
   "source": [
    "id(e4)"
   ]
  },
  {
   "cell_type": "code",
   "execution_count": 79,
   "id": "643bac5c",
   "metadata": {},
   "outputs": [
    {
     "data": {
      "text/plain": [
       "Employee(id=103, name='Mathew', designation='Administrator')"
      ]
     },
     "execution_count": 79,
     "metadata": {},
     "output_type": "execute_result"
    }
   ],
   "source": [
    "e4"
   ]
  },
  {
   "cell_type": "code",
   "execution_count": 80,
   "id": "d19a7be0",
   "metadata": {},
   "outputs": [
    {
     "data": {
      "text/plain": [
       "'Mathew'"
      ]
     },
     "execution_count": 80,
     "metadata": {},
     "output_type": "execute_result"
    }
   ],
   "source": [
    "e4.name"
   ]
  },
  {
   "cell_type": "code",
   "execution_count": 88,
   "id": "220453e8",
   "metadata": {},
   "outputs": [
    {
     "name": "stdout",
     "output_type": "stream",
     "text": [
      "Mathew\n",
      "Mathew\n"
     ]
    }
   ],
   "source": [
    "print(e4.name) \n",
    "# OR\n",
    "print(getattr(e4, 'name'))"
   ]
  },
  {
   "cell_type": "code",
   "execution_count": 86,
   "id": "18da456c",
   "metadata": {},
   "outputs": [
    {
     "data": {
      "text/plain": [
       "'Not set'"
      ]
     },
     "execution_count": 86,
     "metadata": {},
     "output_type": "execute_result"
    }
   ],
   "source": [
    "getattr(e4, 'age', 'Not set')"
   ]
  },
  {
   "cell_type": "code",
   "execution_count": null,
   "id": "2d3652ef",
   "metadata": {},
   "outputs": [],
   "source": []
  }
 ],
 "metadata": {
  "kernelspec": {
   "display_name": "Python 3 (ipykernel)",
   "language": "python",
   "name": "python3"
  },
  "language_info": {
   "codemirror_mode": {
    "name": "ipython",
    "version": 3
   },
   "file_extension": ".py",
   "mimetype": "text/x-python",
   "name": "python",
   "nbconvert_exporter": "python",
   "pygments_lexer": "ipython3",
   "version": "3.11.5"
  }
 },
 "nbformat": 4,
 "nbformat_minor": 5
}

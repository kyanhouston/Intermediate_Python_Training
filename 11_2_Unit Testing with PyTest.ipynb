{
 "cells": [
  {
   "cell_type": "markdown",
   "metadata": {
    "slideshow": {
     "slide_type": "slide"
    }
   },
   "source": [
    "## Unit Testing with PyTest\n",
    "\n",
    "https://docs.pytest.org/en/7.2.x/\n",
    "\n",
    "* pytest requires: Python 3.7+\n",
    "\n",
    "Run the following command in your command line:\n",
    "\n",
    "* pip install pytest\n",
    "\n",
    "    pytest --version"
   ]
  },
  {
   "cell_type": "markdown",
   "metadata": {
    "slideshow": {
     "slide_type": "subslide"
    }
   },
   "source": [
    "### Unit Testing recap \n",
    "* the smallest testable parts of an application, called _units_, are individually and independently scrutinized to ensure they work\n",
    "* your functions/methods/procedures should do ONE thing (and do it well)–testing that thing should be relatively easy to explain\n",
    "* make sure the unit code works, especially with corner cases, not just the expected cases\n",
    "* sometimes called \"white box testing\""
   ]
  },
  {
   "cell_type": "markdown",
   "metadata": {
    "slideshow": {
     "slide_type": "subslide"
    }
   },
   "source": [
    "## Unit Testing for DevOps\n",
    "* in the DevOps sphere, we're likely using Python to write scripts\n",
    "  * automate our daily work\n",
    "  * perhaps interacting with other employees to simplify infrastructure management\n",
    "* we're not likely to be writing customer-facing code or code which makes use of classes\n",
    "  * ...so instead of approaching unit testing from an object oriented perspective, we'll simplify and use __`PyTest`__, as well as simple module testing using __\\_\\_main\\_\\___\n",
    "* before we look at such strategies, let's be sure we understand the motivation for testing the first place"
   ]
  },
  {
   "cell_type": "markdown",
   "metadata": {
    "slideshow": {
     "slide_type": "slide"
    }
   },
   "source": [
    "### Instrumenting our modules to include testing for free"
   ]
  },
  {
   "cell_type": "code",
   "execution_count": null,
   "metadata": {},
   "outputs": [],
   "source": [
    "# This code lives in module.py\n",
    "#\n",
    "# Simple example of a Python module that exports functions\n",
    "# to be used by other modules.\n",
    "# \n",
    "# A possible use case is to package up a bunch of functions\n",
    "# which are often used by your scripts.\n",
    "#\n",
    "# Inside your scripts you presumably have written\n",
    "#\n",
    "# import module\n",
    "#\n",
    "# or\n",
    "#\n",
    "# from module import func\n",
    "\n",
    "def func(x):\n",
    "    return x * 2\n",
    "\n",
    "# What follows is a straightforward testing capability for this\n",
    "# function (or functions). We notice that __name__ is set to\n",
    "# __main__ when we *run* this script, but it's set to the name\n",
    "# of this module when we import this module.\n",
    "\n",
    "if __name__ == '__main__':\n",
    "    # We ran this script, rather than importing it\n",
    "    print('Running unit tests...')\n",
    "    assert func(2) == 4\n",
    "    assert func('two') == 'twotwo'\n",
    "    print('All tests passed!')"
   ]
  },
  {
   "cell_type": "markdown",
   "metadata": {
    "slideshow": {
     "slide_type": "subslide"
    }
   },
   "source": [
    "### Contrast the above behavior with importing the module..."
   ]
  },
  {
   "cell_type": "code",
   "execution_count": 1,
   "metadata": {},
   "outputs": [
    {
     "name": "stdout",
     "output_type": "stream",
     "text": [
      "__name__ is module\n"
     ]
    }
   ],
   "source": [
    "# importing does not cause the tests to be run\n",
    "import module"
   ]
  },
  {
   "cell_type": "code",
   "execution_count": 2,
   "metadata": {},
   "outputs": [
    {
     "data": {
      "text/plain": [
       "['In',\n",
       " 'Out',\n",
       " '_',\n",
       " '__',\n",
       " '___',\n",
       " '__builtin__',\n",
       " '__builtins__',\n",
       " '__doc__',\n",
       " '__loader__',\n",
       " '__name__',\n",
       " '__package__',\n",
       " '__spec__',\n",
       " '_dh',\n",
       " '_i',\n",
       " '_i1',\n",
       " '_i2',\n",
       " '_ih',\n",
       " '_ii',\n",
       " '_iii',\n",
       " '_oh',\n",
       " 'exit',\n",
       " 'get_ipython',\n",
       " 'module',\n",
       " 'open',\n",
       " 'quit']"
      ]
     },
     "execution_count": 2,
     "metadata": {},
     "output_type": "execute_result"
    }
   ],
   "source": [
    "dir()"
   ]
  },
  {
   "cell_type": "code",
   "execution_count": 3,
   "metadata": {},
   "outputs": [
    {
     "data": {
      "text/plain": [
       "26"
      ]
     },
     "execution_count": 3,
     "metadata": {},
     "output_type": "execute_result"
    }
   ],
   "source": [
    "# ...but of course we can access function within the module\n",
    "module.func(13)"
   ]
  },
  {
   "cell_type": "code",
   "execution_count": 4,
   "metadata": {},
   "outputs": [
    {
     "name": "stdout",
     "output_type": "stream",
     "text": [
      "__name__ is __main__\n",
      "Running unit tests...\n",
      "All tests passed!\n"
     ]
    }
   ],
   "source": [
    "# ! means go to bash\n",
    "!python module.py"
   ]
  },
  {
   "cell_type": "markdown",
   "metadata": {
    "slideshow": {
     "slide_type": "subslide"
    }
   },
   "source": [
    "### Exercise: \\_\\_main\\_\\_\n",
    "* create a script similar to __`module.py`__ above that it is intended to be run by you or your colleagues\n",
    "  * that is, make it so that when the script is run directly, no tests are run\n",
    "  * when the script is imported, as a module would be, it runs some diagnostic tests and produces output about those tests"
   ]
  },
  {
   "cell_type": "markdown",
   "metadata": {
    "slideshow": {
     "slide_type": "slide"
    }
   },
   "source": [
    "## __`PyTest`__\n",
    "* simple testing framework for Python code\n",
    "* no boilerplate code needed\n",
    "* outputs detailed info on failing __`assert`__ statements\n",
    "* auto-discovers test modules and functions\n",
    "* use __`sudo pip3 install pytest`__\n",
    "    \n",
    "    or\n",
    "    \n",
    "\n",
    "* pip install pytest"
   ]
  },
  {
   "cell_type": "markdown",
   "metadata": {},
   "source": [
    "### If we name a file __`test_*.py`__, __`pytest`__ will discover it automatically, and run any tests inside which begin with the name __`test_`__"
   ]
  },
  {
   "cell_type": "code",
   "execution_count": null,
   "metadata": {},
   "outputs": [],
   "source": [
    "# content of test_1.py\n",
    "import pytest\n",
    "\n",
    "def incr(num):\n",
    "  return num + 1\n",
    "\n",
    "def test_incr():\n",
    "  assert incr(3) == 5\n",
    "\n",
    "def oddEven(num):\n",
    "  assert num % 2 != 0, \"value is odd, should be even\"\n",
    "\n",
    "def test_oddEven():\n",
    "  # replace with pass\n",
    "  oddEven(3)  \n",
    "\n",
    "def conditional(num1, num2):\n",
    "  if(num1 <= num2):\n",
    "      print('if executed')\n",
    "  else:\n",
    "      print('else executed')\n",
    "\n",
    "def test_conditional():  \n",
    "  conditional(2, 3)\n",
    "  conditional(5, 3)\n",
    "  #conditional(2, 2)"
   ]
  },
  {
   "cell_type": "code",
   "execution_count": 5,
   "metadata": {},
   "outputs": [
    {
     "name": "stdout",
     "output_type": "stream",
     "text": [
      "============================= test session starts =============================\n",
      "platform win32 -- Python 3.11.0, pytest-7.2.0, pluggy-1.0.0\n",
      "rootdir: D:\\DI_IntermediatePython\n",
      "plugins: anyio-3.6.2\n",
      "collected 3 items\n",
      "\n",
      "test_1.py ...                                                            [100%]\n",
      "\n",
      "============================== 3 passed in 0.22s ==============================\n"
     ]
    }
   ],
   "source": [
    "!pytest test_1.py"
   ]
  },
  {
   "cell_type": "markdown",
   "metadata": {},
   "source": [
    "### A more likely scenario would be to have our code in a separate module, and we will import the module in the test file..."
   ]
  },
  {
   "cell_type": "code",
   "execution_count": null,
   "metadata": {},
   "outputs": [],
   "source": [
    "!type test_mean.py\n",
    "# !cat test_mean.py"
   ]
  },
  {
   "cell_type": "code",
   "execution_count": null,
   "metadata": {},
   "outputs": [],
   "source": [
    "!pytest test_mean.py\n"
   ]
  },
  {
   "cell_type": "code",
   "execution_count": null,
   "metadata": {},
   "outputs": [],
   "source": [
    "!type pyunittest.py\n",
    "# !cat pyunittest.py"
   ]
  },
  {
   "cell_type": "code",
   "execution_count": null,
   "metadata": {},
   "outputs": [],
   "source": [
    "!pytest pyunittest.py"
   ]
  },
  {
   "cell_type": "markdown",
   "metadata": {},
   "source": [
    "### Lab\n",
    "* if you have an existing module with some functions in it, add a test_* version of it with a few tests in it\n",
    "* if not, create a file with a couple of functions and a separate test file"
   ]
  }
 ],
 "metadata": {
  "celltoolbar": "Slideshow",
  "kernelspec": {
   "display_name": "Python 3 (ipykernel)",
   "language": "python",
   "name": "python3"
  },
  "language_info": {
   "codemirror_mode": {
    "name": "ipython",
    "version": 3
   },
   "file_extension": ".py",
   "mimetype": "text/x-python",
   "name": "python",
   "nbconvert_exporter": "python",
   "pygments_lexer": "ipython3",
   "version": "3.10.11"
  }
 },
 "nbformat": 4,
 "nbformat_minor": 2
}

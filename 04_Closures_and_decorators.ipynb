{
 "cells": [
  {
   "cell_type": "markdown",
   "id": "a020e6a7",
   "metadata": {},
   "source": [
    "#### Python scoping rules\n",
    "\n",
    "- LEGB (Local --> Enclosed --> Global --> Built-in)\n",
    "- Local: declarations within the same function\n",
    "- Enclosed: declarations in the outer function\n",
    "- Global: declarations at the uppermost layer (within a script)\n",
    "- Built-in: declarations which are part of core library"
   ]
  },
  {
   "cell_type": "code",
   "execution_count": 4,
   "id": "51878f6d",
   "metadata": {},
   "outputs": [
    {
     "name": "stdout",
     "output_type": "stream",
     "text": [
      "a: 10\n",
      "b: 20\n",
      "c: 30\n",
      "__main__\n"
     ]
    }
   ],
   "source": [
    "a = 10\n",
    "\n",
    "def outer_func():\n",
    "    b = 20\n",
    "    \n",
    "    def inner_func():\n",
    "        c = 30\n",
    "        print('a:', a)\n",
    "        print('b:', b)\n",
    "        print('c:', c)\n",
    "        print(__name__) # Built-in\n",
    "        \n",
    "    inner_func()\n",
    "#-------------------------------\n",
    "\n",
    "outer_func()"
   ]
  },
  {
   "cell_type": "markdown",
   "id": "04e2bde3",
   "metadata": {},
   "source": [
    "#### Closure\n",
    "A Closure is function which remembers value(s) from the enclosing scope even when the flow is no longer in the enclosing scope  "
   ]
  },
  {
   "cell_type": "code",
   "execution_count": 5,
   "id": "8391c6ba",
   "metadata": {},
   "outputs": [],
   "source": [
    "def make_adder(x):\n",
    "    \n",
    "    def adder(y):\n",
    "        return x + y\n",
    "    \n",
    "    return adder"
   ]
  },
  {
   "cell_type": "code",
   "execution_count": 7,
   "id": "caeff68b",
   "metadata": {},
   "outputs": [
    {
     "data": {
      "text/plain": [
       "30"
      ]
     },
     "execution_count": 7,
     "metadata": {},
     "output_type": "execute_result"
    }
   ],
   "source": [
    "inner_func1 = make_adder(10)\n",
    "inner_func1(20) # x is 10"
   ]
  },
  {
   "cell_type": "code",
   "execution_count": 9,
   "id": "6735858e",
   "metadata": {},
   "outputs": [
    {
     "data": {
      "text/plain": [
       "120"
      ]
     },
     "execution_count": 9,
     "metadata": {},
     "output_type": "execute_result"
    }
   ],
   "source": [
    "inner_func2 = make_adder(100)\n",
    "inner_func2(20) # x is 100"
   ]
  },
  {
   "cell_type": "code",
   "execution_count": 10,
   "id": "9cfaa7b6",
   "metadata": {},
   "outputs": [
    {
     "data": {
      "text/plain": [
       "139727273215776"
      ]
     },
     "execution_count": 10,
     "metadata": {},
     "output_type": "execute_result"
    }
   ],
   "source": [
    "id(inner_func1)"
   ]
  },
  {
   "cell_type": "code",
   "execution_count": 11,
   "id": "13e94665",
   "metadata": {},
   "outputs": [
    {
     "data": {
      "text/plain": [
       "139727272867488"
      ]
     },
     "execution_count": 11,
     "metadata": {},
     "output_type": "execute_result"
    }
   ],
   "source": [
    "id(inner_func2)"
   ]
  },
  {
   "cell_type": "markdown",
   "id": "c634f992",
   "metadata": {},
   "source": [
    "#### Decorator\n",
    "- Wrapper functions, built on top of Closure concept\n",
    "- Outer function accepts a function as a parameter (parameter is called as target function)\n",
    "- Inner function accepts same parameters as that of target function\n",
    "- Purpose of Decorator is to modify a function bahaviour without modifying the function code\n",
    "- Decorator is used to add pre or post or both action to a  function\n",
    "\n",
    "#### Closure vs Decorator\n",
    "- Decorator outer function should accept a function as a parameter (no such requirement in Closure)\n",
    "- Inner function accepts same parameters as that of target function (no such requirement in Closure)\n",
    "- All Decorators are Closures but vice-versa may not be true"
   ]
  },
  {
   "cell_type": "code",
   "execution_count": 8,
   "id": "02a938cc",
   "metadata": {},
   "outputs": [],
   "source": [
    "def isPositive(target):\n",
    "    \n",
    "    def inner_func(num):\n",
    "        if num >= 0:\n",
    "            result = target(num)\n",
    "            return result\n",
    "        else:\n",
    "            print('WARNING: Negative number not accepted')\n",
    "    \n",
    "    return inner_func"
   ]
  },
  {
   "cell_type": "code",
   "execution_count": 24,
   "id": "eec82eb5",
   "metadata": {},
   "outputs": [
    {
     "name": "stdout",
     "output_type": "stream",
     "text": [
      "Number is 100\n"
     ]
    }
   ],
   "source": [
    "def demo(num):\n",
    "    print(f'Number is {num}')\n",
    "    \n",
    "#----------------------------------    \n",
    "\n",
    "demo = isPositive(demo) # call to the Outer\n",
    "demo(100)               # call the inner function"
   ]
  },
  {
   "cell_type": "code",
   "execution_count": 25,
   "id": "2cc4cedc",
   "metadata": {},
   "outputs": [
    {
     "name": "stdout",
     "output_type": "stream",
     "text": [
      "Number is 100\n"
     ]
    }
   ],
   "source": [
    "@isPositive\n",
    "def demo(num):\n",
    "    print(f'Number is {num}')\n",
    "    \n",
    "#----------------------------------    \n",
    "\n",
    "demo(100) # After demo is decorated, demo now represents the inner function, this line is a call to the inner function"
   ]
  },
  {
   "cell_type": "code",
   "execution_count": null,
   "id": "9a8726d1",
   "metadata": {},
   "outputs": [],
   "source": []
  }
 ],
 "metadata": {
  "kernelspec": {
   "display_name": "Python 3 (ipykernel)",
   "language": "python",
   "name": "python3"
  },
  "language_info": {
   "codemirror_mode": {
    "name": "ipython",
    "version": 3
   },
   "file_extension": ".py",
   "mimetype": "text/x-python",
   "name": "python",
   "nbconvert_exporter": "python",
   "pygments_lexer": "ipython3",
   "version": "3.11.5"
  }
 },
 "nbformat": 4,
 "nbformat_minor": 5
}

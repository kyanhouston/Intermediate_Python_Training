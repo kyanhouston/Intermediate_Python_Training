{
 "cells": [
  {
   "cell_type": "markdown",
   "id": "808f3f48",
   "metadata": {},
   "source": [
    "### Intermediate Python\n",
    "- by Rahul"
   ]
  },
  {
   "cell_type": "markdown",
   "id": "c1e131d1",
   "metadata": {},
   "source": [
    "#### Python review"
   ]
  },
  {
   "cell_type": "code",
   "execution_count": null,
   "id": "8cb15123",
   "metadata": {},
   "outputs": [],
   "source": [
    "s = 'I Like Python'\n",
    "s"
   ]
  },
  {
   "cell_type": "code",
   "execution_count": null,
   "id": "15c28db0",
   "metadata": {},
   "outputs": [],
   "source": [
    "a = 10\n",
    "b = 20\n",
    "print(a)\n",
    "print(b)"
   ]
  },
  {
   "cell_type": "markdown",
   "id": "ad550686",
   "metadata": {},
   "source": [
    "#### Dynamic language but still importance to types"
   ]
  },
  {
   "cell_type": "code",
   "execution_count": null,
   "id": "4e111985",
   "metadata": {},
   "outputs": [],
   "source": [
    "x = 10\n",
    "print(type(x))\n",
    "\n",
    "x = 'Python'\n",
    "print(type(x))\n",
    "\n",
    "x = False\n",
    "print(type(x))\n",
    "\n",
    "x = [1,2,3]\n",
    "print(type(x))"
   ]
  },
  {
   "cell_type": "code",
   "execution_count": null,
   "id": "73b28e81",
   "metadata": {},
   "outputs": [],
   "source": [
    "x = 10\n",
    "y = 'A'\n",
    "z = x + int(y)\n",
    "z"
   ]
  },
  {
   "cell_type": "code",
   "execution_count": null,
   "id": "2019a8d8",
   "metadata": {},
   "outputs": [],
   "source": [
    "str(x) + y "
   ]
  },
  {
   "cell_type": "code",
   "execution_count": null,
   "id": "52ed584a",
   "metadata": {},
   "outputs": [],
   "source": [
    "x = 10\n",
    "y = 'A'\n",
    "z = x + int(y)\n",
    "z"
   ]
  },
  {
   "cell_type": "markdown",
   "id": "57ed88fd",
   "metadata": {},
   "source": [
    "#### Control statements"
   ]
  },
  {
   "cell_type": "code",
   "execution_count": null,
   "id": "cfafdbf3",
   "metadata": {},
   "outputs": [],
   "source": [
    "num = int(input('Enter a number: '))\n",
    "\n",
    "if num > 0:\n",
    "    print(num, 'is positive')\n",
    "elif num < 0:\n",
    "    print(num, 'is negative')\n",
    "else:\n",
    "    print(num, 'is Zero')"
   ]
  },
  {
   "cell_type": "code",
   "execution_count": null,
   "id": "9256e6c1",
   "metadata": {},
   "outputs": [],
   "source": [
    "import keyword\n",
    "\n",
    "print(len(keyword.kwlist))\n",
    "print(keyword.kwlist)"
   ]
  },
  {
   "cell_type": "code",
   "execution_count": null,
   "id": "0375312a",
   "metadata": {},
   "outputs": [],
   "source": [
    "s = input('Enter a month (1-12): ')\n",
    "\n",
    "if s.isnumeric():\n",
    "    month = int(s)\n",
    "    \n",
    "    if month == 1 or month == 2 or month == 3:\n",
    "        print('First Quarter')\n",
    "    elif month == 4 or month == 5 or month == 6:\n",
    "        print('Second Quarter')\n",
    "    elif month == 7 or month == 8 or month == 9:\n",
    "        print('Third Quarter')\n",
    "    elif month == 10 or month == 11 or month == 12:\n",
    "        print('Fourth Quarter')\n",
    "    else:\n",
    "        print('Please enter between 1 and 12')\n",
    "else:\n",
    "    print('Please enter numerical value')"
   ]
  },
  {
   "cell_type": "code",
   "execution_count": null,
   "id": "4d676c57",
   "metadata": {},
   "outputs": [],
   "source": [
    "s = input('Enter a month (1-12): ')\n",
    "\n",
    "if s.isnumeric():\n",
    "    month = int(s)\n",
    "    \n",
    "    if month in (1,2,3):\n",
    "        print('First Quarter')    \n",
    "    elif month in (4,5,6):\n",
    "        print('Second Quarter')\n",
    "    elif month in (7,8,9):\n",
    "        print('Third Quarter')\n",
    "    elif month in (10,11,13):\n",
    "        print('Fourth Quarter')\n",
    "    else:\n",
    "        print('Please enter between 1 and 12')\n",
    "else:\n",
    "    print('Please enter numerical value')"
   ]
  },
  {
   "cell_type": "code",
   "execution_count": null,
   "id": "76007458",
   "metadata": {},
   "outputs": [],
   "source": [
    "s = input('Enter a month (1-12): ')\n",
    "\n",
    "if s.isnumeric():\n",
    "    month = int(s)\n",
    "    \n",
    "    match  month:\n",
    "        case 1 | 2 | 3:\n",
    "            print('First Quarter') \n",
    "        case 4 | 5 | 5:\n",
    "            print('Second Quarter') \n",
    "        case 7 | 8 | 9:\n",
    "            print('Third Quarter') \n",
    "        case 10 | 11 | 12:\n",
    "            print('Fourt Quarter')     \n",
    "        case _:    \n",
    "            print('Please enter between 1 and 12')\n",
    "else:\n",
    "    print('Please enter numerical value')"
   ]
  },
  {
   "cell_type": "markdown",
   "id": "ef5975bb",
   "metadata": {},
   "source": [
    "#### Iterative statements"
   ]
  },
  {
   "cell_type": "code",
   "execution_count": null,
   "id": "e82e8dc5",
   "metadata": {},
   "outputs": [],
   "source": [
    "#for i in range(10): # from 0 to stop-1\n",
    "#for i in range(1,11): # from start to stop-1\n",
    "#for i in range(1,11,3):\n",
    "\n",
    "for i in range(10,0,-1):\n",
    "    print(i, end='  ')"
   ]
  },
  {
   "cell_type": "markdown",
   "id": "3e716190",
   "metadata": {},
   "source": [
    "#### Iterable objects\n",
    "- string\n",
    "- list\n",
    "- set\n",
    "- tuple\n",
    "- dict"
   ]
  },
  {
   "cell_type": "code",
   "execution_count": null,
   "id": "004b00c1",
   "metadata": {},
   "outputs": [],
   "source": [
    "list1 = [10, 20, 30]\n",
    "\n",
    "for ele in list1:\n",
    "    print(ele)"
   ]
  },
  {
   "cell_type": "code",
   "execution_count": null,
   "id": "ed74be6d",
   "metadata": {},
   "outputs": [],
   "source": [
    "len(list1)"
   ]
  },
  {
   "cell_type": "code",
   "execution_count": null,
   "id": "9f5be825",
   "metadata": {},
   "outputs": [],
   "source": [
    "s1 = 'I Like Python'\n",
    "\n",
    "for ch in s1:\n",
    "    print(ch, end='')"
   ]
  },
  {
   "cell_type": "code",
   "execution_count": null,
   "id": "075cd83a",
   "metadata": {},
   "outputs": [],
   "source": [
    "s1 = 'I Like Python'\n",
    "\n",
    "for ch in s1:    \n",
    "    if ch == 't':\n",
    "        break\n",
    "\n",
    "    print(ch, end='')"
   ]
  },
  {
   "cell_type": "code",
   "execution_count": null,
   "id": "c4c1ea8d",
   "metadata": {},
   "outputs": [],
   "source": [
    "s1 = 'I Like Python'\n",
    "\n",
    "for ch in s1:    \n",
    "    if ch == 't':\n",
    "        continue\n",
    "\n",
    "    print(ch, end='')"
   ]
  },
  {
   "cell_type": "markdown",
   "id": "f6a30d85",
   "metadata": {},
   "source": [
    "#### while loop"
   ]
  },
  {
   "cell_type": "code",
   "execution_count": null,
   "id": "5d6133ac",
   "metadata": {},
   "outputs": [],
   "source": [
    "for i in range(1,11):\n",
    "    print(i)"
   ]
  },
  {
   "cell_type": "code",
   "execution_count": null,
   "id": "f3d13c04",
   "metadata": {},
   "outputs": [],
   "source": [
    "i = 1\n",
    "\n",
    "while i < 11:\n",
    "    print(i)\n",
    "    i += 1"
   ]
  },
  {
   "cell_type": "markdown",
   "id": "02d4beef",
   "metadata": {},
   "source": [
    "#### Working with functions"
   ]
  },
  {
   "cell_type": "code",
   "execution_count": null,
   "id": "02629a4c",
   "metadata": {},
   "outputs": [],
   "source": [
    "def add(a, b):\n",
    "    sum = a + b\n",
    "    return sum\n",
    "\n",
    "#-----------------------\n",
    "num1 = 10\n",
    "num2 = 20\n",
    "result = add(num1, num2)\n",
    "\n",
    "print('Sum of', num1, 'and', num2, '=', result)\n",
    "\n",
    "print('Sum of {} and {} = {}'.format(num1, num2, result))\n",
    "\n",
    "print('Sum of %d and %d = %d' % (num1, num2, result))\n",
    "\n",
    "print(f'Sum of {num1} and {num2} = {result}')"
   ]
  },
  {
   "cell_type": "markdown",
   "id": "e0fdff68",
   "metadata": {},
   "source": [
    "#### Variable scope"
   ]
  },
  {
   "cell_type": "code",
   "execution_count": null,
   "id": "0e4ddd8f",
   "metadata": {},
   "outputs": [],
   "source": [
    "a = 10\n",
    "\n",
    "def func():\n",
    "    global b\n",
    "    b = 20\n",
    "    print('---Begin function-------')\n",
    "    \n",
    "    print('a = ', a)\n",
    "    print('b = ', b)\n",
    "    \n",
    "    print('---End function-------')\n",
    "\n",
    "#---------------------------------------------\n",
    "\n",
    "\n",
    "func()\n",
    "print('a = ', a)\n",
    "print('b = ', b)"
   ]
  },
  {
   "cell_type": "code",
   "execution_count": null,
   "id": "066a8e91",
   "metadata": {},
   "outputs": [],
   "source": [
    "a = 100"
   ]
  },
  {
   "cell_type": "code",
   "execution_count": null,
   "id": "a320d815",
   "metadata": {},
   "outputs": [],
   "source": [
    "a"
   ]
  },
  {
   "cell_type": "code",
   "execution_count": null,
   "id": "5858fbed",
   "metadata": {},
   "outputs": [],
   "source": [
    "%%writefile hello.py\n",
    "def say_hello(name):\n",
    "    print(f'Hello {name}')"
   ]
  },
  {
   "cell_type": "code",
   "execution_count": null,
   "id": "fb244722",
   "metadata": {},
   "outputs": [],
   "source": [
    "import hello\n",
    "\n",
    "hello.say_hello('John')\n",
    "hello.say_hello('Sam')\n",
    "hello.say_hello('Mat')"
   ]
  },
  {
   "cell_type": "code",
   "execution_count": null,
   "id": "5dbc46a6",
   "metadata": {},
   "outputs": [],
   "source": [
    "from hello import say_hello\n",
    "\n",
    "say_hello('A')\n",
    "say_hello('B')\n",
    "say_hello('C')"
   ]
  },
  {
   "cell_type": "code",
   "execution_count": null,
   "id": "f74b7178",
   "metadata": {},
   "outputs": [],
   "source": [
    "from hello import *\n",
    "\n",
    "say_hello('X')\n",
    "say_hello('Y')\n",
    "say_hello('Z')\n"
   ]
  },
  {
   "cell_type": "code",
   "execution_count": null,
   "id": "df353a63",
   "metadata": {},
   "outputs": [],
   "source": [
    "from hello import say_hello as s1\n",
    "from hello2 import say_hello as s2\n",
    "\n",
    "s2('John')"
   ]
  },
  {
   "cell_type": "markdown",
   "id": "a383407c",
   "metadata": {},
   "source": [
    "#### Types in Python\n",
    "Immutable\n",
    "- int, float, bool, str, tuple, frozenset\n",
    "\n",
    "Mutable\n",
    "- list, set, dict"
   ]
  },
  {
   "cell_type": "code",
   "execution_count": null,
   "id": "a150eea3",
   "metadata": {},
   "outputs": [],
   "source": [
    "# string is immutable\n",
    "\n",
    "s1 = 'Hello'\n",
    "\n",
    "print(id(s1))\n",
    "\n",
    "s1 = s1 + 'World'\n",
    "\n",
    "print(id(s1))"
   ]
  },
  {
   "cell_type": "markdown",
   "id": "c477e435",
   "metadata": {},
   "source": [
    "#### Working with lists\n",
    "- Ordered (items can be accessed through index)\n",
    "- Mutable\n",
    "- Can have heterogenous elements\n",
    "- Can be sliced"
   ]
  },
  {
   "cell_type": "code",
   "execution_count": null,
   "id": "de2c2adc",
   "metadata": {},
   "outputs": [],
   "source": [
    "list1 = []\n",
    "list2 = list()\n",
    "\n",
    "print(len(list1))\n",
    "print(len(list2))"
   ]
  },
  {
   "cell_type": "code",
   "execution_count": null,
   "id": "264fd38c",
   "metadata": {},
   "outputs": [],
   "source": [
    "list1 = [1, 3, 5, 7, 9, 11, 13]\n",
    "print(len(list1))"
   ]
  },
  {
   "cell_type": "code",
   "execution_count": null,
   "id": "8359fc7f",
   "metadata": {},
   "outputs": [],
   "source": [
    "list1[2]"
   ]
  },
  {
   "cell_type": "code",
   "execution_count": null,
   "id": "d3b5755e",
   "metadata": {},
   "outputs": [],
   "source": [
    "print(list1)\n",
    "list1[2] = 100\n",
    "print(list1)"
   ]
  },
  {
   "cell_type": "code",
   "execution_count": null,
   "id": "7330c19c",
   "metadata": {},
   "outputs": [],
   "source": [
    "print(id(list1))\n",
    "list1.remove(9)\n",
    "print(id(list1))"
   ]
  },
  {
   "cell_type": "code",
   "execution_count": null,
   "id": "def2a325",
   "metadata": {},
   "outputs": [],
   "source": [
    "list1 = [1, 3.1415, False, 'Python', 100]\n",
    "\n",
    "list1"
   ]
  },
  {
   "cell_type": "code",
   "execution_count": null,
   "id": "6563d7d1",
   "metadata": {
    "scrolled": true
   },
   "outputs": [],
   "source": [
    "for ele in list1:\n",
    "    print(ele)"
   ]
  },
  {
   "cell_type": "code",
   "execution_count": null,
   "id": "e544264e",
   "metadata": {},
   "outputs": [],
   "source": [
    "for ele in list1:\n",
    "    if type(ele) in (int,float):\n",
    "        print(ele)"
   ]
  },
  {
   "cell_type": "code",
   "execution_count": null,
   "id": "3125c347",
   "metadata": {},
   "outputs": [],
   "source": [
    "list1 = [1, 3, 5, 7, 9, 11, 13]\n",
    "\n",
    "list1[0]"
   ]
  },
  {
   "cell_type": "code",
   "execution_count": null,
   "id": "3018926b",
   "metadata": {},
   "outputs": [],
   "source": [
    "list1[ len(list1)-1 ] # last element"
   ]
  },
  {
   "cell_type": "code",
   "execution_count": null,
   "id": "e3831c6b",
   "metadata": {},
   "outputs": [],
   "source": [
    "list1[-1] # last element"
   ]
  },
  {
   "cell_type": "code",
   "execution_count": null,
   "id": "e0647119",
   "metadata": {},
   "outputs": [],
   "source": [
    "list1[-2] # second last element"
   ]
  },
  {
   "cell_type": "code",
   "execution_count": null,
   "id": "5ece4bd0",
   "metadata": {},
   "outputs": [],
   "source": [
    "list1"
   ]
  },
  {
   "cell_type": "code",
   "execution_count": null,
   "id": "9e5de322",
   "metadata": {},
   "outputs": [],
   "source": [
    "list2 = list1[2:6] # 2,3,4,5\n",
    "list2"
   ]
  },
  {
   "cell_type": "code",
   "execution_count": null,
   "id": "57e55423",
   "metadata": {},
   "outputs": [],
   "source": [
    "list1[2:] # from 2 till the last index"
   ]
  },
  {
   "cell_type": "code",
   "execution_count": null,
   "id": "4e72a2d5",
   "metadata": {},
   "outputs": [],
   "source": [
    "list1[:6] # from 0 till stop-1"
   ]
  },
  {
   "cell_type": "code",
   "execution_count": null,
   "id": "fbd71baa",
   "metadata": {},
   "outputs": [],
   "source": [
    "fruits = ['apple', 'banana', 'apple', 'cherry', 'pineapple']\n",
    "\n",
    "'apple' in fruits"
   ]
  },
  {
   "cell_type": "code",
   "execution_count": null,
   "id": "dfac0c9a",
   "metadata": {},
   "outputs": [],
   "source": [
    "fruits.count('apple')"
   ]
  },
  {
   "cell_type": "code",
   "execution_count": null,
   "id": "8342d8b6",
   "metadata": {},
   "outputs": [],
   "source": [
    "fruit_to_search = 'apple'\n",
    "\n",
    "if fruit_to_search in fruits:\n",
    "    count = fruits.count('apple')\n",
    "    print(fruit_to_search, 'occurs', count, 'time(s)')\n",
    "    indices = []\n",
    "    for i in range(0, len(fruits)):\n",
    "        if fruits[i] == fruit_to_search:\n",
    "            indices.append(i)\n",
    "    print(fruit_to_search, 'occurs at', indices)\n",
    "else:\n",
    "    print(fruit_to_search, 'does not exist')"
   ]
  },
  {
   "cell_type": "code",
   "execution_count": null,
   "id": "2cf5d1b3",
   "metadata": {},
   "outputs": [],
   "source": [
    "if fruit_to_search in fruits:\n",
    "    count = fruits.count('apple')\n",
    "    print(fruit_to_search, 'occurs', count, 'time(s)')\n",
    "    indices = [i for i,ele in enumerate(fruits) if ele == fruit_to_search]\n",
    "    print(fruit_to_search, 'occurs at', indices)\n",
    "else:\n",
    "    print(fruit_to_search, 'does not exist')"
   ]
  },
  {
   "cell_type": "markdown",
   "id": "713a2b64",
   "metadata": {},
   "source": [
    "#### List comprehension"
   ]
  },
  {
   "cell_type": "code",
   "execution_count": null,
   "id": "8571237e",
   "metadata": {},
   "outputs": [],
   "source": [
    "list1 = [1,2,3,4,5,6,7,8,9,10]\n",
    "list2 = []\n",
    "\n",
    "for ele in list1:\n",
    "    if ele % 2 == 0:\n",
    "        list2.append(ele ** 2)\n",
    "    \n",
    "print(list1)\n",
    "print(list2)"
   ]
  },
  {
   "cell_type": "code",
   "execution_count": null,
   "id": "7799cf6b",
   "metadata": {},
   "outputs": [],
   "source": [
    "list1 = [1,2,3,4,5,6,7,8,9,10]\n",
    "\n",
    "list2 = [ele ** 2 for ele in list1 if ele % 2 == 0]\n",
    "\n",
    "print(list1)\n",
    "print(list2)"
   ]
  },
  {
   "cell_type": "code",
   "execution_count": null,
   "id": "a32424e6",
   "metadata": {},
   "outputs": [],
   "source": [
    "fruits"
   ]
  },
  {
   "cell_type": "code",
   "execution_count": null,
   "id": "e0c9e1d2",
   "metadata": {},
   "outputs": [],
   "source": [
    "for i,ele in enumerate(fruits):\n",
    "    print(i, '-->', ele)"
   ]
  },
  {
   "cell_type": "markdown",
   "id": "230e62c5",
   "metadata": {},
   "source": [
    "#### Working with tuples\n",
    "- Ordered (items can be accessed through index)\n",
    "- Immutable\n",
    "- Can have heterogenous elements\n",
    "- Can be sliced"
   ]
  },
  {
   "cell_type": "code",
   "execution_count": null,
   "id": "b1ac283c",
   "metadata": {},
   "outputs": [],
   "source": [
    "tuple1 = ()\n",
    "tuple2 = tuple()\n",
    "\n",
    "print(len(tuple1))\n",
    "print(len(tuple2))"
   ]
  },
  {
   "cell_type": "code",
   "execution_count": null,
   "id": "cc8edc25",
   "metadata": {},
   "outputs": [],
   "source": [
    "tuple1 = (1,)\n",
    "print(type(tuple1))"
   ]
  },
  {
   "cell_type": "code",
   "execution_count": null,
   "id": "0887e05b",
   "metadata": {},
   "outputs": [],
   "source": [
    "tuple1 = (1,2,3,4,5)\n",
    "print(type(tuple1))"
   ]
  },
  {
   "cell_type": "code",
   "execution_count": null,
   "id": "999f404b",
   "metadata": {},
   "outputs": [],
   "source": [
    "tuple1[3]"
   ]
  },
  {
   "cell_type": "code",
   "execution_count": null,
   "id": "63f7152a",
   "metadata": {},
   "outputs": [],
   "source": [
    "tuple1[3] = 100"
   ]
  },
  {
   "cell_type": "code",
   "execution_count": null,
   "id": "aff4c8d3",
   "metadata": {},
   "outputs": [],
   "source": [
    "for ele in tuple1:\n",
    "    print(ele)"
   ]
  },
  {
   "cell_type": "code",
   "execution_count": null,
   "id": "7d747e15",
   "metadata": {},
   "outputs": [],
   "source": [
    "tuple1 = (1, 2, 3, (4,5,6,7,8))\n",
    "\n",
    "print(tuple1)\n",
    "\n",
    "temp_list = []\n",
    "\n",
    "for ele in tuple1:\n",
    "    if type(ele) is tuple:\n",
    "        temp_list.extend(ele)    \n",
    "    else:\n",
    "        temp_list.append(ele)\n",
    "        \n",
    "tuple1 = tuple(temp_list)\n",
    "\n",
    "print(tuple1)"
   ]
  },
  {
   "cell_type": "markdown",
   "id": "2aaeda7b",
   "metadata": {},
   "source": [
    "#### Working with sets\n",
    "\n",
    "- Un-Ordered (items cannot be accessed through index)\n",
    "- Mutable\n",
    "- Can have heterogenous elements\n",
    "- Can be sliced\n",
    "- Does not allow duplicates"
   ]
  },
  {
   "cell_type": "code",
   "execution_count": null,
   "id": "e9889ca7",
   "metadata": {},
   "outputs": [],
   "source": [
    "set1 = {1, 7, 3, 5, 2}\n",
    "\n",
    "print(type(set1))\n",
    "\n",
    "set1"
   ]
  },
  {
   "cell_type": "code",
   "execution_count": null,
   "id": "c841f042",
   "metadata": {},
   "outputs": [],
   "source": [
    "set1[2] # ERROR"
   ]
  },
  {
   "cell_type": "code",
   "execution_count": null,
   "id": "df979966",
   "metadata": {},
   "outputs": [],
   "source": [
    "for ele in set1:\n",
    "    print(ele)"
   ]
  },
  {
   "cell_type": "code",
   "execution_count": null,
   "id": "752aadfb",
   "metadata": {},
   "outputs": [],
   "source": [
    "set1"
   ]
  },
  {
   "cell_type": "code",
   "execution_count": null,
   "id": "c3b08e74",
   "metadata": {},
   "outputs": [],
   "source": [
    "set1.add(10)\n",
    "set1"
   ]
  },
  {
   "cell_type": "code",
   "execution_count": null,
   "id": "1cf29626",
   "metadata": {},
   "outputs": [],
   "source": [
    "set1.remove(5) # remove the given element, raises KeyError in case element does not exist in set\n",
    "set1"
   ]
  },
  {
   "cell_type": "code",
   "execution_count": null,
   "id": "b5bf7e2b",
   "metadata": {},
   "outputs": [],
   "source": [
    "set1"
   ]
  },
  {
   "cell_type": "code",
   "execution_count": null,
   "id": "c1efcbd9",
   "metadata": {},
   "outputs": [],
   "source": [
    "set1.discard(5) # remove the given element, No KeyError in case element does not exist in set\n",
    "set1"
   ]
  },
  {
   "cell_type": "code",
   "execution_count": null,
   "id": "0e564f0f",
   "metadata": {},
   "outputs": [],
   "source": [
    "set1"
   ]
  },
  {
   "cell_type": "code",
   "execution_count": null,
   "id": "28cca58b",
   "metadata": {},
   "outputs": [],
   "source": [
    "set1.add(9)\n",
    "set1"
   ]
  },
  {
   "cell_type": "code",
   "execution_count": null,
   "id": "1fe62837",
   "metadata": {},
   "outputs": [],
   "source": [
    "set1.add(3)\n",
    "set1"
   ]
  },
  {
   "cell_type": "code",
   "execution_count": null,
   "id": "b19991b7",
   "metadata": {},
   "outputs": [],
   "source": [
    "set1"
   ]
  },
  {
   "cell_type": "code",
   "execution_count": null,
   "id": "74b4eec3",
   "metadata": {},
   "outputs": [],
   "source": [
    "set1.update((10, 3, 7, 20,30))\n",
    "set1"
   ]
  },
  {
   "cell_type": "markdown",
   "id": "6f155fbd",
   "metadata": {},
   "source": [
    "#### Frozenset is immutable"
   ]
  },
  {
   "cell_type": "code",
   "execution_count": null,
   "id": "04c75c0b",
   "metadata": {},
   "outputs": [],
   "source": [
    "set1 = {'apple', 'banana', 'orange'}\n",
    "frozenset1 = frozenset(set1)\n",
    "print(frozenset1)\n",
    "frozenset1.add('pear')\n",
    "print(frozenset1)"
   ]
  },
  {
   "cell_type": "markdown",
   "id": "278b9ee2",
   "metadata": {},
   "source": [
    "#### Remove duplicates from a List"
   ]
  },
  {
   "cell_type": "code",
   "execution_count": null,
   "id": "9d521b9c",
   "metadata": {},
   "outputs": [],
   "source": [
    "list1 = [1, 3, 5, 1, 7, 3, 9, 5]\n",
    "print(list1)\n",
    "\n",
    "list1 = list(set(list1))\n",
    "\n",
    "print(list1)"
   ]
  },
  {
   "cell_type": "markdown",
   "id": "4b00da29",
   "metadata": {},
   "source": [
    "#### Write a function which takes a string as parameter, displays the words and their frequency\n",
    "- case-sensitive (python and Python are different words)\n",
    "- case-insensitive (python and Python are not different words)"
   ]
  },
  {
   "cell_type": "code",
   "execution_count": null,
   "id": "bfcb474f",
   "metadata": {},
   "outputs": [],
   "source": [
    "def word_frequency(s):\n",
    "    \n",
    "    #case-sensitive\n",
    "    #word_list = s.replace('.','').replace(',','').split()\n",
    "    \n",
    "    #case-insensitive\n",
    "    word_list = s.replace('.','').replace(',','').lower().split()\n",
    "    \n",
    "    unique_words = set(word_list)\n",
    "    \n",
    "    for word in unique_words:\n",
    "        print(word, '--', word_list.count(word))   \n",
    "    \n",
    "#----------------------------------------------\n",
    "\n",
    "string1 = 'Hello, I like python. Python is a simple language. Hello world from python'\n",
    "word_frequency(string1)"
   ]
  },
  {
   "cell_type": "markdown",
   "id": "7b243812",
   "metadata": {},
   "source": [
    "#### Working with Dictionary\n",
    "- Unordered till Python 3.6\n",
    "- Key-value pairs\n",
    "- key need to unique and immutable, value can be of any type"
   ]
  },
  {
   "cell_type": "code",
   "execution_count": null,
   "id": "f9a413ef",
   "metadata": {},
   "outputs": [],
   "source": [
    "dict1 = {} # Empty dict\n",
    "print(type(dict1))\n",
    "print(len(dict1))    "
   ]
  },
  {
   "cell_type": "code",
   "execution_count": null,
   "id": "5fdb9e49",
   "metadata": {},
   "outputs": [],
   "source": [
    "dict1 = {'Name':'John', 'Age':23, 'Gender':'Male'}\n",
    "dict1"
   ]
  },
  {
   "cell_type": "code",
   "execution_count": null,
   "id": "49bba761",
   "metadata": {},
   "outputs": [],
   "source": [
    "value = dict1['Name123'] # KeyError in case the key does not exist\n",
    "print(value)"
   ]
  },
  {
   "cell_type": "code",
   "execution_count": null,
   "id": "53f487a3",
   "metadata": {},
   "outputs": [],
   "source": [
    "value = dict1.get('Name123') # get method returns None in case the key does not exist\n",
    "print(value)"
   ]
  },
  {
   "cell_type": "code",
   "execution_count": null,
   "id": "64822fc3",
   "metadata": {},
   "outputs": [],
   "source": [
    "value = dict1.get('Name123', 'Not set') # returns the specified default value in case the key does not exist\n",
    "print(value)"
   ]
  },
  {
   "cell_type": "code",
   "execution_count": null,
   "id": "12bcf732",
   "metadata": {},
   "outputs": [],
   "source": [
    "dict1['Result'] = 'Fail' # Add a new pair if key does not exist else replace the value if key already exists\n",
    "dict1"
   ]
  },
  {
   "cell_type": "code",
   "execution_count": null,
   "id": "fc782618",
   "metadata": {},
   "outputs": [],
   "source": [
    "dict1['Name'] = 'Johnson'\n",
    "dict1"
   ]
  },
  {
   "cell_type": "code",
   "execution_count": null,
   "id": "10168c58",
   "metadata": {},
   "outputs": [],
   "source": [
    "dict1.keys() # collection of all keys"
   ]
  },
  {
   "cell_type": "code",
   "execution_count": null,
   "id": "0912ecfa",
   "metadata": {},
   "outputs": [],
   "source": [
    "for key in dict1.keys():\n",
    "    print(key)"
   ]
  },
  {
   "cell_type": "code",
   "execution_count": null,
   "id": "ccc7012f",
   "metadata": {},
   "outputs": [],
   "source": [
    " dict1.values() # collection of all values"
   ]
  },
  {
   "cell_type": "code",
   "execution_count": null,
   "id": "7962e16f",
   "metadata": {},
   "outputs": [],
   "source": [
    "dict1.items()"
   ]
  },
  {
   "cell_type": "code",
   "execution_count": null,
   "id": "2d21a756",
   "metadata": {},
   "outputs": [],
   "source": [
    "# each item is tuple having 2 elements, item[0] is the key and item[1] is the value\n",
    "for item in dict1.items():\n",
    "    print(item[0], '<==>', item[1])"
   ]
  },
  {
   "cell_type": "markdown",
   "id": "4524b48e",
   "metadata": {},
   "source": [
    "#### Tuple unpacking"
   ]
  },
  {
   "cell_type": "code",
   "execution_count": null,
   "id": "868ce361",
   "metadata": {},
   "outputs": [],
   "source": [
    "tuple1 = (10,20)\n",
    "a,b = tuple1\n",
    "\n",
    "print(a)\n",
    "print(b)"
   ]
  },
  {
   "cell_type": "code",
   "execution_count": null,
   "id": "674e86b2",
   "metadata": {},
   "outputs": [],
   "source": [
    "for key,value in dict1.items():\n",
    "    print(key, '<==>', value)"
   ]
  },
  {
   "cell_type": "code",
   "execution_count": 116,
   "id": "4fda0bbc",
   "metadata": {},
   "outputs": [],
   "source": [
    "# args is a tuple, hence can be iterated...similar to variable number of arguments feature of other languages\n",
    "def add(a, b, *args):\n",
    "    return a + b + sum(args)"
   ]
  },
  {
   "cell_type": "code",
   "execution_count": 112,
   "id": "446b8b0a",
   "metadata": {},
   "outputs": [
    {
     "data": {
      "text/plain": [
       "11"
      ]
     },
     "execution_count": 112,
     "metadata": {},
     "output_type": "execute_result"
    }
   ],
   "source": [
    "add(5, 6)"
   ]
  },
  {
   "cell_type": "code",
   "execution_count": 113,
   "id": "a651fac7",
   "metadata": {},
   "outputs": [
    {
     "data": {
      "text/plain": [
       "18"
      ]
     },
     "execution_count": 113,
     "metadata": {},
     "output_type": "execute_result"
    }
   ],
   "source": [
    "add(5,6,7)"
   ]
  },
  {
   "cell_type": "code",
   "execution_count": 114,
   "id": "c3e3de48",
   "metadata": {},
   "outputs": [
    {
     "data": {
      "text/plain": [
       "55"
      ]
     },
     "execution_count": 114,
     "metadata": {},
     "output_type": "execute_result"
    }
   ],
   "source": [
    "add(1,2,3,4,5,6,7,8,9,10)"
   ]
  },
  {
   "cell_type": "code",
   "execution_count": 115,
   "id": "3947e53d",
   "metadata": {},
   "outputs": [
    {
     "data": {
      "text/plain": [
       "63"
      ]
     },
     "execution_count": 115,
     "metadata": {},
     "output_type": "execute_result"
    }
   ],
   "source": [
    "tuple1 = (10,20,30)\n",
    "add(1, 2, *tuple1)"
   ]
  },
  {
   "cell_type": "code",
   "execution_count": 119,
   "id": "6da89fd6",
   "metadata": {},
   "outputs": [
    {
     "name": "stdout",
     "output_type": "stream",
     "text": [
      "x -- 1\n",
      "y -- 2\n",
      "z -- 3\n"
     ]
    }
   ],
   "source": [
    "# kwargs is a dictionary, made up of key/value pairs\n",
    "def demo(**kwargs):\n",
    "    for key,value in kwargs.items():\n",
    "        print(key, '--', value)\n",
    "        \n",
    "#---------------------------------------\n",
    "\n",
    "demo(x=1, y=2, z=3)        "
   ]
  },
  {
   "cell_type": "code",
   "execution_count": 121,
   "id": "57bc09d8",
   "metadata": {},
   "outputs": [
    {
     "name": "stdout",
     "output_type": "stream",
     "text": [
      "hostname -- db.example.com\n",
      "port -- 3306\n",
      "username -- scott\n",
      "password -- Tiger1234\n"
     ]
    }
   ],
   "source": [
    "db_details = {'hostname':'db.example.com', 'port':3306, 'username':'scott', 'password':'Tiger1234'}\n",
    "\n",
    "demo(**db_details)"
   ]
  },
  {
   "cell_type": "code",
   "execution_count": null,
   "id": "885cfd35",
   "metadata": {},
   "outputs": [],
   "source": []
  }
 ],
 "metadata": {
  "kernelspec": {
   "display_name": "Python 3 (ipykernel)",
   "language": "python",
   "name": "python3"
  },
  "language_info": {
   "codemirror_mode": {
    "name": "ipython",
    "version": 3
   },
   "file_extension": ".py",
   "mimetype": "text/x-python",
   "name": "python",
   "nbconvert_exporter": "python",
   "pygments_lexer": "ipython3",
   "version": "3.11.5"
  }
 },
 "nbformat": 4,
 "nbformat_minor": 5
}

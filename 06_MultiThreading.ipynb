{
 "cells": [
  {
   "cell_type": "code",
   "execution_count": 1,
   "id": "187da584",
   "metadata": {},
   "outputs": [],
   "source": [
    "import os\n",
    "import time\n",
    "import threading"
   ]
  },
  {
   "cell_type": "markdown",
   "id": "e4b48af4",
   "metadata": {},
   "source": [
    "#### Current Thread"
   ]
  },
  {
   "cell_type": "code",
   "execution_count": null,
   "id": "6eb9d47c",
   "metadata": {},
   "outputs": [],
   "source": [
    "print('Program enter')\n",
    "print('Process id:', os.getpid())\n",
    "print('Current thread name:', threading.current_thread().name)\n",
    "print('Sleeping')\n",
    "time.sleep(5) # current thread goes to sleep state\n",
    "print('Back to READY state')\n",
    "threading.current_thread().name = 'My-Thread'\n",
    "print('Current thread name:', threading.current_thread().name)\n",
    "print('Program exit')"
   ]
  },
  {
   "cell_type": "markdown",
   "id": "faca93b7",
   "metadata": {},
   "source": [
    "#### Create a new Thread\n",
    "- Create a Thread class instance\n",
    "- Write a sub-class of Thread and instantiate the sub-class"
   ]
  },
  {
   "cell_type": "code",
   "execution_count": 19,
   "id": "7d1bda91",
   "metadata": {},
   "outputs": [],
   "source": [
    "def run():\n",
    "    for i in range(1,6):\n",
    "        print(f'{i} --> Thread name: {threading.current_thread().name} - Process id: {os.getpid()}')\n",
    "        time.sleep(0.5)"
   ]
  },
  {
   "cell_type": "code",
   "execution_count": 20,
   "id": "4c13fb38",
   "metadata": {
    "scrolled": true
   },
   "outputs": [
    {
     "name": "stdout",
     "output_type": "stream",
     "text": [
      "Main Thread Enter - Process id 5262\n",
      "1 --> Thread name: Thread-1 - Process id: 5262\n",
      "1 --> Thread name: Thread-2 - Process id: 5262\n",
      "T1 is alive:  True\n",
      "2 --> Thread name: Thread-1 - Process id: 5262\n",
      "2 --> Thread name: Thread-2 - Process id: 5262\n",
      "3 --> Thread name: Thread-1 - Process id: 5262\n",
      "3 --> Thread name: Thread-2 - Process id: 5262\n",
      "4 --> Thread name: Thread-1 - Process id: 5262\n",
      "4 --> Thread name: Thread-2 - Process id: 5262\n",
      "5 --> Thread name: Thread-1 - Process id: 5262\n",
      "5 --> Thread name: Thread-2 - Process id: 5262\n",
      "T1 is alive:  False\n",
      "Main Thread Exit\n"
     ]
    }
   ],
   "source": [
    "print('Main Thread Enter - Process id', os.getpid())\n",
    "t1 = threading.Thread(target=run)\n",
    "t1.name = 'Thread-1'\n",
    "\n",
    "t2 = threading.Thread(target=run)\n",
    "t2.name = 'Thread-2'\n",
    "\n",
    "t1.start() # put the thread in READY state\n",
    "t2.start()\n",
    "\n",
    "print('T1 is alive: ', t1.is_alive()) # May be True or False\n",
    "\n",
    "t1.join() # current thread (Main) goes to wait state, gets notified when t1 is dead\n",
    "t2.join()\n",
    "\n",
    "print('T1 is alive: ', t1.is_alive()) # will be False since t1 is DEAD\n",
    "\n",
    "\n",
    "print('Main Thread Exit')"
   ]
  },
  {
   "cell_type": "markdown",
   "id": "243c3198",
   "metadata": {},
   "source": [
    "#### Create a Thread whose target function accepts numbers, adds them and display the sum"
   ]
  },
  {
   "cell_type": "code",
   "execution_count": null,
   "id": "66907d13",
   "metadata": {},
   "outputs": [],
   "source": [
    "def add(a,c,b):\n",
    "    print(f'Thread name: {threading.current_thread().name}, Sum: {sum(abcd)}')\n",
    "    \n",
    "#---------------------------------------------------------\n",
    "\n",
    "t1 = threading.Thread(target=add, name='First', args=(1,2,3), )\n",
    "t2 = threading.Thread(target=add, name='Second', args=(11,22,33))\n",
    "\n",
    "t1.start()\n",
    "t2.start()"
   ]
  },
  {
   "cell_type": "markdown",
   "id": "b2594c5a",
   "metadata": {},
   "source": [
    "#### Create a Thread by inheritence\n",
    "- Write a sub-class of Thread class\n",
    "- Override the run method (this is code for Thread to run)\n",
    "- In case the method name is not run and something else, then we set the target through 't.run' attribute\n",
    "- arguments can be set explicitly through t.args attribute and accessed using self.args "
   ]
  },
  {
   "cell_type": "code",
   "execution_count": null,
   "id": "ab786889",
   "metadata": {},
   "outputs": [],
   "source": [
    "class MyThread(threading.Thread):\n",
    "    def do_something(self):\n",
    "        for i in range(1,6):\n",
    "            print(f'{i} --> Thread name: {threading.current_thread().name} - Process id: {os.getpid()}')\n",
    "            time.sleep(0.5)"
   ]
  },
  {
   "cell_type": "code",
   "execution_count": null,
   "id": "0b7fac0d",
   "metadata": {},
   "outputs": [],
   "source": [
    "t1 = MyThread()\n",
    "t1.name = 'Thread-100'\n",
    "t1.run = t1.do_something # setting a target for our Thread\n",
    "t1.start()"
   ]
  },
  {
   "cell_type": "markdown",
   "id": "7ac0ea28",
   "metadata": {},
   "source": [
    "#### Create a sub-class of Thread named AddThread\n",
    "- the target method would sum the args and display the same"
   ]
  },
  {
   "cell_type": "code",
   "execution_count": null,
   "id": "aacc904c",
   "metadata": {},
   "outputs": [],
   "source": [
    "class AddThread(threading.Thread):\n",
    "    def run(self):\n",
    "        print(f'Thread name: {threading.current_thread().name}, Sum: {sum(self.args)}') \n",
    "\n",
    "#---------------------------------        \n",
    "\n",
    "t1 = AddThread()\n",
    "t1.name = 'MyThread-1'\n",
    "t1.args = (1,2,3,4,5)\n",
    "\n",
    "t2 = AddThread()\n",
    "t2.name = 'MyThread-2'\n",
    "t2.args = (10, 20, 30)\n",
    "\n",
    "t1.start()\n",
    "t2.start()"
   ]
  },
  {
   "cell_type": "markdown",
   "id": "9a1158f2",
   "metadata": {},
   "source": [
    "#### Thread assignment\n",
    "- Write a class named Resource\n",
    "- It will have an instance field named 'data'\n",
    "- It will have an instance method named 'do_something'\n",
    "- The method will increment data by 1 and display the name of the current Thread and current value of data\n",
    "- Make this method as a target method of a Thread"
   ]
  },
  {
   "cell_type": "markdown",
   "id": "bdad56e6",
   "metadata": {},
   "source": [
    "#### Resource without Lock"
   ]
  },
  {
   "cell_type": "code",
   "execution_count": 11,
   "id": "c7c3776d",
   "metadata": {},
   "outputs": [],
   "source": [
    "class Resource:\n",
    "    def __init__(self):\n",
    "        self.data = 0\n",
    "        \n",
    "    def do_something(self):\n",
    "        self.data += 1\n",
    "        time.sleep(0.01)\n",
    "        print(f'{threading.current_thread().name} - {self.data}')"
   ]
  },
  {
   "cell_type": "markdown",
   "id": "5c77bee4",
   "metadata": {},
   "source": [
    "#### Resource with Lock"
   ]
  },
  {
   "cell_type": "code",
   "execution_count": 13,
   "id": "f23a8017",
   "metadata": {},
   "outputs": [],
   "source": [
    "class Resource:\n",
    "    def __init__(self):\n",
    "        self.data = 0\n",
    "        self.lock = threading.Lock()\n",
    "        \n",
    "    def do_something(self):\n",
    "        self.lock.acquire()\n",
    "        self.data += 1\n",
    "        time.sleep(0.01)\n",
    "        print(f'{threading.current_thread().name} - {self.data}')\n",
    "        self.lock.release()"
   ]
  },
  {
   "cell_type": "code",
   "execution_count": 14,
   "id": "72b25e57",
   "metadata": {},
   "outputs": [
    {
     "name": "stdout",
     "output_type": "stream",
     "text": [
      "First - 1\n",
      "Second - 2\n",
      "Third - 3\n"
     ]
    }
   ],
   "source": [
    "r = Resource()\n",
    "\n",
    "t1 = threading.Thread(target=r.do_something, name='First')\n",
    "t2 = threading.Thread(target=r.do_something, name='Second')\n",
    "t3 = threading.Thread(target=r.do_something, name='Third')\n",
    "\n",
    "t1.start()\n",
    "t2.start()\n",
    "t3.start()"
   ]
  },
  {
   "cell_type": "markdown",
   "id": "2a88c261",
   "metadata": {},
   "source": [
    "#### MultiProcessing in Python"
   ]
  },
  {
   "cell_type": "code",
   "execution_count": 1,
   "id": "c6e7425e",
   "metadata": {},
   "outputs": [],
   "source": [
    "import os\n",
    "import multiprocessing"
   ]
  },
  {
   "cell_type": "code",
   "execution_count": 16,
   "id": "f1fe6e67",
   "metadata": {},
   "outputs": [
    {
     "name": "stdout",
     "output_type": "stream",
     "text": [
      "Available processors: 4\n"
     ]
    }
   ],
   "source": [
    "print('Available processors:', os.cpu_count())"
   ]
  },
  {
   "cell_type": "code",
   "execution_count": 24,
   "id": "22c55b70",
   "metadata": {},
   "outputs": [
    {
     "name": "stdout",
     "output_type": "stream",
     "text": [
      "Main process id: 5262\n",
      "Worker-1 process, Process id: 6537\n",
      "Worker-2 process, Process id: 6538\n",
      "Main process exit\n"
     ]
    }
   ],
   "source": [
    "def worker1():\n",
    "    print(f'Worker-1 process, Process id: {os.getpid()}')\n",
    "\n",
    "def worker2():\n",
    "    print(f'Worker-2 process, Process id: {os.getpid()}')\n",
    "\n",
    "print('Main process id:', os.getpid())\n",
    "    \n",
    "p1 = multiprocessing.Process(target=worker1)\n",
    "p2 = multiprocessing.Process(target=worker2)\n",
    "\n",
    "p1.start()\n",
    "p2.start()\n",
    "\n",
    "p1.join()\n",
    "p2.join()\n",
    "\n",
    "print('Main process exit')"
   ]
  },
  {
   "cell_type": "markdown",
   "id": "0e34b031",
   "metadata": {},
   "source": [
    "#### Create 2 Process objects\n",
    "- One will square a given number (as parameter) \n",
    "- Other will cube a given number (as parameter)\n",
    "- Parmeters are passed as args (similar to args concept in Threads) \n",
    "- Make sure that only one process can print to standard output at any given time"
   ]
  },
  {
   "cell_type": "code",
   "execution_count": 8,
   "id": "425b20e4",
   "metadata": {},
   "outputs": [
    {
     "name": "stdout",
     "output_type": "stream",
     "text": [
      "Main process id: 8884\n",
      "Square process id: 10234\n",
      "Square of 5 is 25\n",
      "Cube process id: 10237\n",
      "Cube of 5 is 125\n",
      "Main process exit\n"
     ]
    }
   ],
   "source": [
    "def square(lock,num):\n",
    "    with lock:\n",
    "        print('Square process id:', os.getpid())\n",
    "        print(f'Square of {num} is {num ** 2}')\n",
    "\n",
    "def cube(lock,num):\n",
    "    with lock:\n",
    "        print('Cube process id:', os.getpid())\n",
    "        print(f'Cube of {num} is {num ** 3}')\n",
    "\n",
    "if __name__ == '__main__':\n",
    "    print('Main process id:', os.getpid())\n",
    "    \n",
    "    lock = multiprocessing.Lock()\n",
    "    \n",
    "    p1 = multiprocessing.Process(target=square, args=(lock,5))\n",
    "    p2 = multiprocessing.Process(target=cube, args=(lock,5))\n",
    "\n",
    "    p1.start()\n",
    "    p2.start()\n",
    "    \n",
    "    p1.join()\n",
    "    p2.join()\n",
    "    \n",
    "    print('Main process exit')"
   ]
  },
  {
   "cell_type": "code",
   "execution_count": null,
   "id": "e3eb546a",
   "metadata": {},
   "outputs": [],
   "source": []
  }
 ],
 "metadata": {
  "kernelspec": {
   "display_name": "Python 3 (ipykernel)",
   "language": "python",
   "name": "python3"
  },
  "language_info": {
   "codemirror_mode": {
    "name": "ipython",
    "version": 3
   },
   "file_extension": ".py",
   "mimetype": "text/x-python",
   "name": "python",
   "nbconvert_exporter": "python",
   "pygments_lexer": "ipython3",
   "version": "3.11.5"
  }
 },
 "nbformat": 4,
 "nbformat_minor": 5
}

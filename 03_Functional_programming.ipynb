{
 "cells": [
  {
   "cell_type": "markdown",
   "id": "e03b3555",
   "metadata": {},
   "source": [
    "#### Functional programming"
   ]
  },
  {
   "cell_type": "markdown",
   "id": "a9f34e28",
   "metadata": {},
   "source": [
    "#### Python functions\n",
    "\n",
    "1. Python functions are 'First class\" objects, i.e. they can be created at runtime\n",
    "2. Can be assigned to a variable\n",
    "3. Can be passed as an argument to a function\n",
    "4. Can be returned from a function"
   ]
  },
  {
   "cell_type": "code",
   "execution_count": null,
   "id": "de14074e",
   "metadata": {},
   "outputs": [],
   "source": [
    "def say_hello(*s):\n",
    "    return f'Hello {\"\".join(s)}'\n",
    "\n",
    "\n",
    "def add(*args):\n",
    "    return sum(args)\n",
    "\n",
    "\n",
    "def print_result(func, a):\n",
    "    result = func(*a)\n",
    "    print(result)\n",
    "\n",
    "\n",
    "print_result(say_hello, 'John')\n",
    "print_result(add, (1,2,3))"
   ]
  },
  {
   "cell_type": "markdown",
   "id": "caf31558",
   "metadata": {},
   "source": [
    "#### Lambda functions\n",
    "- lambda keyword creates an anyonymous function \n",
    "- lambda accepts parameters\n",
    "- lambda body is made up of an expression (only one expression) \n",
    "- will return the expression evaluation result"
   ]
  },
  {
   "cell_type": "code",
   "execution_count": 16,
   "id": "9e6df447",
   "metadata": {},
   "outputs": [
    {
     "data": {
      "text/plain": [
       "function"
      ]
     },
     "execution_count": 16,
     "metadata": {},
     "output_type": "execute_result"
    }
   ],
   "source": [
    "type((lambda num : num * num))"
   ]
  },
  {
   "cell_type": "code",
   "execution_count": 17,
   "id": "341a851e",
   "metadata": {},
   "outputs": [
    {
     "data": {
      "text/plain": [
       "25"
      ]
     },
     "execution_count": 17,
     "metadata": {},
     "output_type": "execute_result"
    }
   ],
   "source": [
    "(lambda num : num * num)(5)"
   ]
  },
  {
   "cell_type": "code",
   "execution_count": null,
   "id": "4571c237",
   "metadata": {},
   "outputs": [],
   "source": [
    "sqr = lambda num : num * num"
   ]
  },
  {
   "cell_type": "code",
   "execution_count": null,
   "id": "620bc68c",
   "metadata": {},
   "outputs": [],
   "source": [
    "sqr(12)"
   ]
  },
  {
   "cell_type": "code",
   "execution_count": null,
   "id": "c6f5787c",
   "metadata": {},
   "outputs": [],
   "source": [
    "sqr(3)"
   ]
  },
  {
   "cell_type": "code",
   "execution_count": 18,
   "id": "e12e0929",
   "metadata": {},
   "outputs": [
    {
     "data": {
      "text/plain": [
       "7"
      ]
     },
     "execution_count": 18,
     "metadata": {},
     "output_type": "execute_result"
    }
   ],
   "source": [
    "(lambda a,b : a + b)(3,4)"
   ]
  },
  {
   "cell_type": "code",
   "execution_count": 19,
   "id": "05f59637",
   "metadata": {},
   "outputs": [
    {
     "data": {
      "text/plain": [
       "5"
      ]
     },
     "execution_count": 19,
     "metadata": {},
     "output_type": "execute_result"
    }
   ],
   "source": [
    "add = lambda a,b : a + b\n",
    "\n",
    "add(2,3)"
   ]
  },
  {
   "cell_type": "code",
   "execution_count": 20,
   "id": "3e065f4a",
   "metadata": {},
   "outputs": [],
   "source": [
    "add = lambda *args : sum(args)"
   ]
  },
  {
   "cell_type": "code",
   "execution_count": 21,
   "id": "833434c2",
   "metadata": {},
   "outputs": [
    {
     "data": {
      "text/plain": [
       "3"
      ]
     },
     "execution_count": 21,
     "metadata": {},
     "output_type": "execute_result"
    }
   ],
   "source": [
    "add(1,2)"
   ]
  },
  {
   "cell_type": "code",
   "execution_count": 22,
   "id": "1efe922c",
   "metadata": {},
   "outputs": [
    {
     "data": {
      "text/plain": [
       "6"
      ]
     },
     "execution_count": 22,
     "metadata": {},
     "output_type": "execute_result"
    }
   ],
   "source": [
    "add(1,2,3)"
   ]
  },
  {
   "cell_type": "code",
   "execution_count": 26,
   "id": "ddd3c971",
   "metadata": {},
   "outputs": [
    {
     "data": {
      "text/plain": [
       "15"
      ]
     },
     "execution_count": 26,
     "metadata": {},
     "output_type": "execute_result"
    }
   ],
   "source": [
    "add(1,2,3,4,5)"
   ]
  },
  {
   "cell_type": "markdown",
   "id": "e21dc502",
   "metadata": {},
   "source": [
    "#### Higher-Order functions\n",
    "- a function that takes another function as an arg\n",
    "- map()\n",
    "- reduce()\n",
    "- filter()"
   ]
  },
  {
   "cell_type": "markdown",
   "id": "0a382ed9",
   "metadata": {},
   "source": [
    "#### map() function\n",
    "- purpose of map is to apply trasformation to the input elements\n",
    "- takes a function as first argument and iterable as second argument\n",
    "- function is invoked for each item of the iterable and returns the transformed values as a sequence\n",
    "- syntax --> map(func, iterable)\n",
    "- number of output elements is same as number of input elements"
   ]
  },
  {
   "cell_type": "code",
   "execution_count": null,
   "id": "14cc9d2b",
   "metadata": {},
   "outputs": [],
   "source": [
    "# Differnt ways of creating a list with values in a sequence\n",
    "list1 = [1,2,3,4,5,6,7,8,9,10]\n",
    "list2 = [*range(1,11)]\n",
    "list3 = list(range(1,11))\n",
    "\n",
    "print(list1)\n",
    "print(list2)\n",
    "print(list3)"
   ]
  },
  {
   "cell_type": "markdown",
   "id": "ed77bb66",
   "metadata": {},
   "source": [
    "#### Using map(), create a list having square of numbers present in list1"
   ]
  },
  {
   "cell_type": "code",
   "execution_count": 34,
   "id": "c05fafa6",
   "metadata": {},
   "outputs": [
    {
     "name": "stdout",
     "output_type": "stream",
     "text": [
      "[1, 2, 3, 4, 5, 6, 7, 8, 9, 10]\n",
      "[1, 4, 9, 16, 25, 36, 49, 64, 81, 100]\n"
     ]
    }
   ],
   "source": [
    "list1 = [1,2,3,4,5,6,7,8,9,10]\n",
    "\n",
    "list2 = list(map(sqr, list1))\n",
    "\n",
    "print(list1)\n",
    "print(list2)"
   ]
  },
  {
   "cell_type": "code",
   "execution_count": 37,
   "id": "af23cbc7",
   "metadata": {},
   "outputs": [
    {
     "data": {
      "text/plain": [
       "(20,)"
      ]
     },
     "execution_count": 37,
     "metadata": {},
     "output_type": "execute_result"
    }
   ],
   "source": [
    "tuple(map((lambda x : x * 2), [10]))"
   ]
  },
  {
   "cell_type": "code",
   "execution_count": 40,
   "id": "c580dd57",
   "metadata": {},
   "outputs": [
    {
     "data": {
      "text/plain": [
       "('pp', 'yy', 'tt', 'hh', 'oo', 'nn')"
      ]
     },
     "execution_count": 40,
     "metadata": {},
     "output_type": "execute_result"
    }
   ],
   "source": [
    "tuple(map((lambda x : x * 2), 'python'))"
   ]
  },
  {
   "cell_type": "code",
   "execution_count": 51,
   "id": "149d0ab0",
   "metadata": {},
   "outputs": [
    {
     "data": {
      "text/plain": [
       "[5, 7, 9]"
      ]
     },
     "execution_count": 51,
     "metadata": {},
     "output_type": "execute_result"
    }
   ],
   "source": [
    "number1 = [1,2,3]\n",
    "number2 = [4,5,6]\n",
    "\n",
    "result = map(lambda a,b : a + b, number1, number2)\n",
    "list(result)"
   ]
  },
  {
   "cell_type": "code",
   "execution_count": 52,
   "id": "2ed92607",
   "metadata": {},
   "outputs": [
    {
     "data": {
      "text/plain": [
       "'aaa'"
      ]
     },
     "execution_count": 52,
     "metadata": {},
     "output_type": "execute_result"
    }
   ],
   "source": [
    "'a' * 3 # repeatation, this works since '*' operator is overloaded for string"
   ]
  },
  {
   "cell_type": "code",
   "execution_count": 54,
   "id": "dd32ed2a",
   "metadata": {},
   "outputs": [
    {
     "ename": "TypeError",
     "evalue": "can only concatenate str (not \"int\") to str",
     "output_type": "error",
     "traceback": [
      "\u001b[0;31m---------------------------------------------------------------------------\u001b[0m",
      "\u001b[0;31mTypeError\u001b[0m                                 Traceback (most recent call last)",
      "Cell \u001b[0;32mIn[54], line 1\u001b[0m\n\u001b[0;32m----> 1\u001b[0m \u001b[38;5;124;43m'\u001b[39;49m\u001b[38;5;124;43ma\u001b[39;49m\u001b[38;5;124;43m'\u001b[39;49m\u001b[43m \u001b[49m\u001b[38;5;241;43m+\u001b[39;49m\u001b[43m \u001b[49m\u001b[38;5;241;43m3\u001b[39;49m \u001b[38;5;66;03m# error\u001b[39;00m\n",
      "\u001b[0;31mTypeError\u001b[0m: can only concatenate str (not \"int\") to str"
     ]
    }
   ],
   "source": [
    "'a' + 3 # error"
   ]
  },
  {
   "cell_type": "markdown",
   "id": "6241bfad",
   "metadata": {},
   "source": [
    "#### reduce() function\n",
    "- produces a single result from a sequence of any number of items\n",
    "- syntax --> reduce(function, iterable)\n",
    "- part of a module called 'functools'"
   ]
  },
  {
   "cell_type": "code",
   "execution_count": 55,
   "id": "d49a636a",
   "metadata": {},
   "outputs": [
    {
     "data": {
      "text/plain": [
       "15"
      ]
     },
     "execution_count": 55,
     "metadata": {},
     "output_type": "execute_result"
    }
   ],
   "source": [
    "from functools import reduce\n",
    "\n",
    "add = lambda a,b : a + b\n",
    "\n",
    "list1 = [1,2,3,4,5]\n",
    "\n",
    "reduce(add, list1)"
   ]
  },
  {
   "cell_type": "code",
   "execution_count": 61,
   "id": "bb443c02",
   "metadata": {},
   "outputs": [
    {
     "name": "stdout",
     "output_type": "stream",
     "text": [
      "-4\n",
      "13\n"
     ]
    }
   ],
   "source": [
    "list1 = [11, 7, 9, -4, 5, 13, -4, 2]\n",
    "\n",
    "def is_smaller(a,b):\n",
    "    if a < b:\n",
    "        return a\n",
    "    else:\n",
    "        return b\n",
    "\n",
    "is_greater = lambda a, b: a if a>b else b       \n",
    "\n",
    "print(reduce(is_smaller, list1))\n",
    "print(reduce(is_greater, list1))"
   ]
  },
  {
   "cell_type": "markdown",
   "id": "b65d1e88",
   "metadata": {},
   "source": [
    "#### filter() function\n",
    "- filter is used for eliminating unwanted values\n",
    "- synax --> filter(func,iterable)\n",
    "- function used for filter should always return bool value\n",
    "- items from the iterable are passed to the function (one at a time)\n",
    "- the output sequence contains those elements for which the function returns True\n",
    "- number of output elements may not be same as that of input elements\n",
    "- map() transforms whereas filter selectively picks items based on filter logic "
   ]
  },
  {
   "cell_type": "code",
   "execution_count": 65,
   "id": "242f98b7",
   "metadata": {},
   "outputs": [
    {
     "data": {
      "text/plain": [
       "[8, 10]"
      ]
     },
     "execution_count": 65,
     "metadata": {},
     "output_type": "execute_result"
    }
   ],
   "source": [
    "list1 = [1, 3, 5, 7, 9, 8, 10]\n",
    "\n",
    "is_even = lambda n : n % 2 == 0\n",
    "\n",
    "list(filter(is_even, list1))"
   ]
  },
  {
   "cell_type": "code",
   "execution_count": 66,
   "id": "e92ee07e",
   "metadata": {},
   "outputs": [
    {
     "data": {
      "text/plain": [
       "{'I', 'a', 'e', 'i', 'o', 'u'}"
      ]
     },
     "execution_count": 66,
     "metadata": {},
     "output_type": "execute_result"
    }
   ],
   "source": [
    "s = 'It is a beautiful day out there'\n",
    "\n",
    "is_vowel = lambda ch : ch in 'aeiouAEIOU'\n",
    "\n",
    "set(filter(is_vowel, s))"
   ]
  },
  {
   "cell_type": "code",
   "execution_count": 68,
   "id": "7396ac88",
   "metadata": {},
   "outputs": [
    {
     "data": {
      "text/plain": [
       "'2024'"
      ]
     },
     "execution_count": 68,
     "metadata": {},
     "output_type": "execute_result"
    }
   ],
   "source": [
    "# extract digits from the string and put them in list/tuple\n",
    "s = 'Py20th24on'\n",
    "\n",
    "is_digit = lambda ch : ch.isdigit()\n",
    "\n",
    "tuple1 = tuple(filter(is_digit, s))\n",
    "reduce(lambda a,b : a+b , tuple1) "
   ]
  },
  {
   "cell_type": "code",
   "execution_count": 75,
   "id": "eaaa31fc",
   "metadata": {},
   "outputs": [
    {
     "data": {
      "text/plain": [
       "['class', 'class-1', 'class-2', 'city-1', 'city-2']"
      ]
     },
     "execution_count": 75,
     "metadata": {},
     "output_type": "execute_result"
    }
   ],
   "source": [
    "strings = ['class', 'class-1', 'class-2', 'town-1', 'town-2', 'city-1', 'city-2']\n",
    "strings_to_search = ['class', 'city']\n",
    "\n",
    "contains_string1 = lambda my_strings : any(s in my_strings for s in strings_to_search)\n",
    "\n",
    "def contains_string2(my_strings):\n",
    "    return  any(s in my_strings for s in strings_to_search)\n",
    "\n",
    "list(filter(contains_string2, strings))\n"
   ]
  },
  {
   "cell_type": "code",
   "execution_count": null,
   "id": "b33d5488",
   "metadata": {},
   "outputs": [],
   "source": []
  }
 ],
 "metadata": {
  "kernelspec": {
   "display_name": "Python 3 (ipykernel)",
   "language": "python",
   "name": "python3"
  },
  "language_info": {
   "codemirror_mode": {
    "name": "ipython",
    "version": 3
   },
   "file_extension": ".py",
   "mimetype": "text/x-python",
   "name": "python",
   "nbconvert_exporter": "python",
   "pygments_lexer": "ipython3",
   "version": "3.11.5"
  }
 },
 "nbformat": 4,
 "nbformat_minor": 5
}

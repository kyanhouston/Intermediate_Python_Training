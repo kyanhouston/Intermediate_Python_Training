{
 "cells": [
  {
   "cell_type": "markdown",
   "id": "34c7b5d8",
   "metadata": {},
   "source": [
    "#### Container\n",
    "- Data structure which holds elements\n",
    "- Supports membership tests (it can be asked whether it contains a certain element)\n",
    "- Membership operators are 'in' and 'not in'\n",
    "- e.g. string, list, set, tuple, dict"
   ]
  },
  {
   "cell_type": "code",
   "execution_count": 1,
   "id": "3eefd51d",
   "metadata": {},
   "outputs": [
    {
     "data": {
      "text/plain": [
       "True"
      ]
     },
     "execution_count": 1,
     "metadata": {},
     "output_type": "execute_result"
    }
   ],
   "source": [
    "'p' in 'python'"
   ]
  },
  {
   "cell_type": "code",
   "execution_count": 2,
   "id": "beaaaac6",
   "metadata": {},
   "outputs": [
    {
     "data": {
      "text/plain": [
       "True"
      ]
     },
     "execution_count": 2,
     "metadata": {},
     "output_type": "execute_result"
    }
   ],
   "source": [
    "5 in [1,2,3,4,5]"
   ]
  },
  {
   "cell_type": "code",
   "execution_count": 3,
   "id": "1847dbe6",
   "metadata": {},
   "outputs": [
    {
     "data": {
      "text/plain": [
       "True"
      ]
     },
     "execution_count": 3,
     "metadata": {},
     "output_type": "execute_result"
    }
   ],
   "source": [
    "'Like' in ('I', 'Like', 'Python')"
   ]
  },
  {
   "cell_type": "code",
   "execution_count": 4,
   "id": "370fc926",
   "metadata": {},
   "outputs": [
    {
     "data": {
      "text/plain": [
       "True"
      ]
     },
     "execution_count": 4,
     "metadata": {},
     "output_type": "execute_result"
    }
   ],
   "source": [
    "'Name' in {'Name':'John', 'Age':23} # search in keys"
   ]
  },
  {
   "cell_type": "code",
   "execution_count": 6,
   "id": "05cbabf9",
   "metadata": {},
   "outputs": [
    {
     "data": {
      "text/plain": [
       "True"
      ]
     },
     "execution_count": 6,
     "metadata": {},
     "output_type": "execute_result"
    }
   ],
   "source": [
    "'John' in {'Name':'John', 'Age':23}.values()  # search in values"
   ]
  },
  {
   "cell_type": "markdown",
   "id": "7918a2b2",
   "metadata": {},
   "source": [
    "#### Iterables\n",
    "- Any object (not necessararily a data structure) that can return an Iterator object\n",
    "- \\_\\_iter\\_\\_() method returns the Iterator object\n",
    "- Any object that has \\_\\_iter\\_\\_() method is an Iterable\n",
    "- files, sockets are Iterables as well apart from string, list, tuple, set, dict"
   ]
  },
  {
   "cell_type": "code",
   "execution_count": 15,
   "id": "8ec0b9c0",
   "metadata": {},
   "outputs": [
    {
     "name": "stdout",
     "output_type": "stream",
     "text": [
      "<class 'list_iterator'>\n"
     ]
    }
   ],
   "source": [
    "list1 = [1,2,3]\n",
    "iter1 = list1.__iter__()\n",
    "print(type(iter1))"
   ]
  },
  {
   "cell_type": "code",
   "execution_count": 9,
   "id": "72268823",
   "metadata": {},
   "outputs": [
    {
     "name": "stdout",
     "output_type": "stream",
     "text": [
      "<class 'list_iterator'>\n"
     ]
    }
   ],
   "source": [
    "iter2 = iter(list1)\n",
    "print(type(iter2))"
   ]
  },
  {
   "cell_type": "markdown",
   "id": "79558447",
   "metadata": {},
   "source": [
    "#### Iterator\n",
    "- A stateful object that produces the next value when we call \\_\\_next\\_\\_() method or next(iterator)\n",
    "- Any object that has \\_\\_next\\_\\_() method is an Iterator\n",
    "- How does it produce the next value is irrelevant\n",
    "- Iterator can be treated as value factory"
   ]
  },
  {
   "cell_type": "code",
   "execution_count": 19,
   "id": "0860e5b6",
   "metadata": {},
   "outputs": [
    {
     "ename": "StopIteration",
     "evalue": "",
     "output_type": "error",
     "traceback": [
      "\u001b[0;31m---------------------------------------------------------------------------\u001b[0m",
      "\u001b[0;31mStopIteration\u001b[0m                             Traceback (most recent call last)",
      "Cell \u001b[0;32mIn[19], line 1\u001b[0m\n\u001b[0;32m----> 1\u001b[0m \u001b[43miter1\u001b[49m\u001b[38;5;241;43m.\u001b[39;49m\u001b[38;5;21;43m__next__\u001b[39;49m\u001b[43m(\u001b[49m\u001b[43m)\u001b[49m\n",
      "\u001b[0;31mStopIteration\u001b[0m: "
     ]
    }
   ],
   "source": [
    "iter1.__next__()"
   ]
  },
  {
   "cell_type": "code",
   "execution_count": 23,
   "id": "3a0661fb",
   "metadata": {},
   "outputs": [
    {
     "ename": "StopIteration",
     "evalue": "",
     "output_type": "error",
     "traceback": [
      "\u001b[0;31m---------------------------------------------------------------------------\u001b[0m",
      "\u001b[0;31mStopIteration\u001b[0m                             Traceback (most recent call last)",
      "Cell \u001b[0;32mIn[23], line 1\u001b[0m\n\u001b[0;32m----> 1\u001b[0m \u001b[38;5;28;43mnext\u001b[39;49m\u001b[43m(\u001b[49m\u001b[43miter2\u001b[49m\u001b[43m)\u001b[49m\n",
      "\u001b[0;31mStopIteration\u001b[0m: "
     ]
    }
   ],
   "source": [
    "next(iter2)"
   ]
  },
  {
   "cell_type": "code",
   "execution_count": 25,
   "id": "d74f553e",
   "metadata": {},
   "outputs": [
    {
     "name": "stdout",
     "output_type": "stream",
     "text": [
      "1\n",
      "2\n",
      "3\n"
     ]
    }
   ],
   "source": [
    "# The 'for' loop internally uses the iterator provided by the iterable object\n",
    "for ele in list1:\n",
    "    print(ele)"
   ]
  },
  {
   "cell_type": "markdown",
   "id": "5040822a",
   "metadata": {},
   "source": [
    "#### Do the same thing as 'for' loop (seen above) using the while loop "
   ]
  },
  {
   "cell_type": "code",
   "execution_count": 26,
   "id": "035bedf6",
   "metadata": {},
   "outputs": [
    {
     "name": "stdout",
     "output_type": "stream",
     "text": [
      "1\n",
      "2\n",
      "3\n"
     ]
    }
   ],
   "source": [
    "iter1 = list1.__iter__()\n",
    "\n",
    "try:\n",
    "    while True:\n",
    "        print(iter1.__next__())\n",
    "except StopIteration:\n",
    "    pass"
   ]
  },
  {
   "cell_type": "code",
   "execution_count": 27,
   "id": "b8f474d9",
   "metadata": {},
   "outputs": [
    {
     "name": "stdout",
     "output_type": "stream",
     "text": [
      "1\n",
      "2\n",
      "3\n"
     ]
    }
   ],
   "source": [
    "iter2 = iter(list1)\n",
    "\n",
    "try:\n",
    "    while True:\n",
    "        print(next(iter2))\n",
    "except StopIteration:\n",
    "    pass"
   ]
  },
  {
   "cell_type": "markdown",
   "id": "38cc892a",
   "metadata": {},
   "source": [
    "#### Let's build our own Iterator\n",
    "#### Generate Fibonacci sequence through as Iterator till the value is less than the specified value passed as constructor argument"
   ]
  },
  {
   "cell_type": "code",
   "execution_count": 35,
   "id": "ae5ca4cd",
   "metadata": {},
   "outputs": [],
   "source": [
    "class Fibonacci:\n",
    "    def __init__(self, max):\n",
    "        self.max = max\n",
    "        self.prev = 0\n",
    "        self.next = 1\n",
    "    \n",
    "    def __iter__(self): # the object is its own Iterator\n",
    "        return self\n",
    "    \n",
    "    def __next__(self): # return the next value, stop generating when value exceeds max\n",
    "        value = self.prev\n",
    "        self.prev = self.prev + self.next\n",
    "        self.next = value\n",
    "        \n",
    "        if value > self.max:\n",
    "            raise StopIteration\n",
    "        \n",
    "        return value"
   ]
  },
  {
   "cell_type": "code",
   "execution_count": 38,
   "id": "34443243",
   "metadata": {},
   "outputs": [
    {
     "name": "stdout",
     "output_type": "stream",
     "text": [
      "0  1  1  2  3  5  8  13  21  34  55  89  144  233  377  610  987  1597  "
     ]
    }
   ],
   "source": [
    "f = Fibonacci(2000)\n",
    "\n",
    "for value in f: \n",
    "    print(value, end='  ')"
   ]
  },
  {
   "cell_type": "code",
   "execution_count": null,
   "id": "5123b141",
   "metadata": {},
   "outputs": [],
   "source": []
  }
 ],
 "metadata": {
  "kernelspec": {
   "display_name": "Python 3 (ipykernel)",
   "language": "python",
   "name": "python3"
  },
  "language_info": {
   "codemirror_mode": {
    "name": "ipython",
    "version": 3
   },
   "file_extension": ".py",
   "mimetype": "text/x-python",
   "name": "python",
   "nbconvert_exporter": "python",
   "pygments_lexer": "ipython3",
   "version": "3.11.5"
  }
 },
 "nbformat": 4,
 "nbformat_minor": 5
}
